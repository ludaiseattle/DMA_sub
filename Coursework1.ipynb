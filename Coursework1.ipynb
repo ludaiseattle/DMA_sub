{
 "cells": [
  {
   "cell_type": "code",
   "execution_count": 1,
   "id": "21776645",
   "metadata": {},
   "outputs": [],
   "source": [
    "import matplotlib.pyplot as plt\n",
    "import pandas as pd\n",
    "import seaborn as sns\n",
    "import numpy as np"
   ]
  },
  {
   "cell_type": "code",
   "execution_count": 2,
   "id": "c264ea33",
   "metadata": {},
   "outputs": [],
   "source": [
    "data = pd.read_csv(\"training_set_features.csv\")\n",
    "label = pd.read_csv(\"training_set_labels.csv\")"
   ]
  },
  {
   "cell_type": "code",
   "execution_count": 3,
   "id": "36645c44",
   "metadata": {},
   "outputs": [
    {
     "name": "stdout",
     "output_type": "stream",
     "text": [
      "(26707, 36)\n"
     ]
    },
    {
     "data": {
      "text/html": [
       "<div>\n",
       "<style scoped>\n",
       "    .dataframe tbody tr th:only-of-type {\n",
       "        vertical-align: middle;\n",
       "    }\n",
       "\n",
       "    .dataframe tbody tr th {\n",
       "        vertical-align: top;\n",
       "    }\n",
       "\n",
       "    .dataframe thead th {\n",
       "        text-align: right;\n",
       "    }\n",
       "</style>\n",
       "<table border=\"1\" class=\"dataframe\">\n",
       "  <thead>\n",
       "    <tr style=\"text-align: right;\">\n",
       "      <th></th>\n",
       "      <th>count</th>\n",
       "      <th>mean</th>\n",
       "      <th>std</th>\n",
       "      <th>min</th>\n",
       "      <th>25%</th>\n",
       "      <th>50%</th>\n",
       "      <th>75%</th>\n",
       "      <th>max</th>\n",
       "    </tr>\n",
       "  </thead>\n",
       "  <tbody>\n",
       "    <tr>\n",
       "      <th>respondent_id</th>\n",
       "      <td>26707.0</td>\n",
       "      <td>13353.000000</td>\n",
       "      <td>7709.791156</td>\n",
       "      <td>0.0</td>\n",
       "      <td>6676.5</td>\n",
       "      <td>13353.0</td>\n",
       "      <td>20029.5</td>\n",
       "      <td>26706.0</td>\n",
       "    </tr>\n",
       "    <tr>\n",
       "      <th>h1n1_concern</th>\n",
       "      <td>26615.0</td>\n",
       "      <td>1.618486</td>\n",
       "      <td>0.910311</td>\n",
       "      <td>0.0</td>\n",
       "      <td>1.0</td>\n",
       "      <td>2.0</td>\n",
       "      <td>2.0</td>\n",
       "      <td>3.0</td>\n",
       "    </tr>\n",
       "    <tr>\n",
       "      <th>h1n1_knowledge</th>\n",
       "      <td>26591.0</td>\n",
       "      <td>1.262532</td>\n",
       "      <td>0.618149</td>\n",
       "      <td>0.0</td>\n",
       "      <td>1.0</td>\n",
       "      <td>1.0</td>\n",
       "      <td>2.0</td>\n",
       "      <td>2.0</td>\n",
       "    </tr>\n",
       "    <tr>\n",
       "      <th>behavioral_antiviral_meds</th>\n",
       "      <td>26636.0</td>\n",
       "      <td>0.048844</td>\n",
       "      <td>0.215545</td>\n",
       "      <td>0.0</td>\n",
       "      <td>0.0</td>\n",
       "      <td>0.0</td>\n",
       "      <td>0.0</td>\n",
       "      <td>1.0</td>\n",
       "    </tr>\n",
       "    <tr>\n",
       "      <th>behavioral_avoidance</th>\n",
       "      <td>26499.0</td>\n",
       "      <td>0.725612</td>\n",
       "      <td>0.446214</td>\n",
       "      <td>0.0</td>\n",
       "      <td>0.0</td>\n",
       "      <td>1.0</td>\n",
       "      <td>1.0</td>\n",
       "      <td>1.0</td>\n",
       "    </tr>\n",
       "    <tr>\n",
       "      <th>behavioral_face_mask</th>\n",
       "      <td>26688.0</td>\n",
       "      <td>0.068982</td>\n",
       "      <td>0.253429</td>\n",
       "      <td>0.0</td>\n",
       "      <td>0.0</td>\n",
       "      <td>0.0</td>\n",
       "      <td>0.0</td>\n",
       "      <td>1.0</td>\n",
       "    </tr>\n",
       "    <tr>\n",
       "      <th>behavioral_wash_hands</th>\n",
       "      <td>26665.0</td>\n",
       "      <td>0.825614</td>\n",
       "      <td>0.379448</td>\n",
       "      <td>0.0</td>\n",
       "      <td>1.0</td>\n",
       "      <td>1.0</td>\n",
       "      <td>1.0</td>\n",
       "      <td>1.0</td>\n",
       "    </tr>\n",
       "    <tr>\n",
       "      <th>behavioral_large_gatherings</th>\n",
       "      <td>26620.0</td>\n",
       "      <td>0.358640</td>\n",
       "      <td>0.479610</td>\n",
       "      <td>0.0</td>\n",
       "      <td>0.0</td>\n",
       "      <td>0.0</td>\n",
       "      <td>1.0</td>\n",
       "      <td>1.0</td>\n",
       "    </tr>\n",
       "    <tr>\n",
       "      <th>behavioral_outside_home</th>\n",
       "      <td>26625.0</td>\n",
       "      <td>0.337315</td>\n",
       "      <td>0.472802</td>\n",
       "      <td>0.0</td>\n",
       "      <td>0.0</td>\n",
       "      <td>0.0</td>\n",
       "      <td>1.0</td>\n",
       "      <td>1.0</td>\n",
       "    </tr>\n",
       "    <tr>\n",
       "      <th>behavioral_touch_face</th>\n",
       "      <td>26579.0</td>\n",
       "      <td>0.677264</td>\n",
       "      <td>0.467531</td>\n",
       "      <td>0.0</td>\n",
       "      <td>0.0</td>\n",
       "      <td>1.0</td>\n",
       "      <td>1.0</td>\n",
       "      <td>1.0</td>\n",
       "    </tr>\n",
       "    <tr>\n",
       "      <th>doctor_recc_h1n1</th>\n",
       "      <td>24547.0</td>\n",
       "      <td>0.220312</td>\n",
       "      <td>0.414466</td>\n",
       "      <td>0.0</td>\n",
       "      <td>0.0</td>\n",
       "      <td>0.0</td>\n",
       "      <td>0.0</td>\n",
       "      <td>1.0</td>\n",
       "    </tr>\n",
       "    <tr>\n",
       "      <th>doctor_recc_seasonal</th>\n",
       "      <td>24547.0</td>\n",
       "      <td>0.329735</td>\n",
       "      <td>0.470126</td>\n",
       "      <td>0.0</td>\n",
       "      <td>0.0</td>\n",
       "      <td>0.0</td>\n",
       "      <td>1.0</td>\n",
       "      <td>1.0</td>\n",
       "    </tr>\n",
       "    <tr>\n",
       "      <th>chronic_med_condition</th>\n",
       "      <td>25736.0</td>\n",
       "      <td>0.283261</td>\n",
       "      <td>0.450591</td>\n",
       "      <td>0.0</td>\n",
       "      <td>0.0</td>\n",
       "      <td>0.0</td>\n",
       "      <td>1.0</td>\n",
       "      <td>1.0</td>\n",
       "    </tr>\n",
       "    <tr>\n",
       "      <th>child_under_6_months</th>\n",
       "      <td>25887.0</td>\n",
       "      <td>0.082590</td>\n",
       "      <td>0.275266</td>\n",
       "      <td>0.0</td>\n",
       "      <td>0.0</td>\n",
       "      <td>0.0</td>\n",
       "      <td>0.0</td>\n",
       "      <td>1.0</td>\n",
       "    </tr>\n",
       "    <tr>\n",
       "      <th>health_worker</th>\n",
       "      <td>25903.0</td>\n",
       "      <td>0.111918</td>\n",
       "      <td>0.315271</td>\n",
       "      <td>0.0</td>\n",
       "      <td>0.0</td>\n",
       "      <td>0.0</td>\n",
       "      <td>0.0</td>\n",
       "      <td>1.0</td>\n",
       "    </tr>\n",
       "    <tr>\n",
       "      <th>health_insurance</th>\n",
       "      <td>14433.0</td>\n",
       "      <td>0.879720</td>\n",
       "      <td>0.325300</td>\n",
       "      <td>0.0</td>\n",
       "      <td>1.0</td>\n",
       "      <td>1.0</td>\n",
       "      <td>1.0</td>\n",
       "      <td>1.0</td>\n",
       "    </tr>\n",
       "    <tr>\n",
       "      <th>opinion_h1n1_vacc_effective</th>\n",
       "      <td>26316.0</td>\n",
       "      <td>3.850623</td>\n",
       "      <td>1.007436</td>\n",
       "      <td>1.0</td>\n",
       "      <td>3.0</td>\n",
       "      <td>4.0</td>\n",
       "      <td>5.0</td>\n",
       "      <td>5.0</td>\n",
       "    </tr>\n",
       "    <tr>\n",
       "      <th>opinion_h1n1_risk</th>\n",
       "      <td>26319.0</td>\n",
       "      <td>2.342566</td>\n",
       "      <td>1.285539</td>\n",
       "      <td>1.0</td>\n",
       "      <td>1.0</td>\n",
       "      <td>2.0</td>\n",
       "      <td>4.0</td>\n",
       "      <td>5.0</td>\n",
       "    </tr>\n",
       "    <tr>\n",
       "      <th>opinion_h1n1_sick_from_vacc</th>\n",
       "      <td>26312.0</td>\n",
       "      <td>2.357670</td>\n",
       "      <td>1.362766</td>\n",
       "      <td>1.0</td>\n",
       "      <td>1.0</td>\n",
       "      <td>2.0</td>\n",
       "      <td>4.0</td>\n",
       "      <td>5.0</td>\n",
       "    </tr>\n",
       "    <tr>\n",
       "      <th>opinion_seas_vacc_effective</th>\n",
       "      <td>26245.0</td>\n",
       "      <td>4.025986</td>\n",
       "      <td>1.086565</td>\n",
       "      <td>1.0</td>\n",
       "      <td>4.0</td>\n",
       "      <td>4.0</td>\n",
       "      <td>5.0</td>\n",
       "      <td>5.0</td>\n",
       "    </tr>\n",
       "    <tr>\n",
       "      <th>opinion_seas_risk</th>\n",
       "      <td>26193.0</td>\n",
       "      <td>2.719162</td>\n",
       "      <td>1.385055</td>\n",
       "      <td>1.0</td>\n",
       "      <td>2.0</td>\n",
       "      <td>2.0</td>\n",
       "      <td>4.0</td>\n",
       "      <td>5.0</td>\n",
       "    </tr>\n",
       "    <tr>\n",
       "      <th>opinion_seas_sick_from_vacc</th>\n",
       "      <td>26170.0</td>\n",
       "      <td>2.118112</td>\n",
       "      <td>1.332950</td>\n",
       "      <td>1.0</td>\n",
       "      <td>1.0</td>\n",
       "      <td>2.0</td>\n",
       "      <td>4.0</td>\n",
       "      <td>5.0</td>\n",
       "    </tr>\n",
       "    <tr>\n",
       "      <th>household_adults</th>\n",
       "      <td>26458.0</td>\n",
       "      <td>0.886499</td>\n",
       "      <td>0.753422</td>\n",
       "      <td>0.0</td>\n",
       "      <td>0.0</td>\n",
       "      <td>1.0</td>\n",
       "      <td>1.0</td>\n",
       "      <td>3.0</td>\n",
       "    </tr>\n",
       "    <tr>\n",
       "      <th>household_children</th>\n",
       "      <td>26458.0</td>\n",
       "      <td>0.534583</td>\n",
       "      <td>0.928173</td>\n",
       "      <td>0.0</td>\n",
       "      <td>0.0</td>\n",
       "      <td>0.0</td>\n",
       "      <td>1.0</td>\n",
       "      <td>3.0</td>\n",
       "    </tr>\n",
       "  </tbody>\n",
       "</table>\n",
       "</div>"
      ],
      "text/plain": [
       "                               count          mean          std  min     25%  \\\n",
       "respondent_id                26707.0  13353.000000  7709.791156  0.0  6676.5   \n",
       "h1n1_concern                 26615.0      1.618486     0.910311  0.0     1.0   \n",
       "h1n1_knowledge               26591.0      1.262532     0.618149  0.0     1.0   \n",
       "behavioral_antiviral_meds    26636.0      0.048844     0.215545  0.0     0.0   \n",
       "behavioral_avoidance         26499.0      0.725612     0.446214  0.0     0.0   \n",
       "behavioral_face_mask         26688.0      0.068982     0.253429  0.0     0.0   \n",
       "behavioral_wash_hands        26665.0      0.825614     0.379448  0.0     1.0   \n",
       "behavioral_large_gatherings  26620.0      0.358640     0.479610  0.0     0.0   \n",
       "behavioral_outside_home      26625.0      0.337315     0.472802  0.0     0.0   \n",
       "behavioral_touch_face        26579.0      0.677264     0.467531  0.0     0.0   \n",
       "doctor_recc_h1n1             24547.0      0.220312     0.414466  0.0     0.0   \n",
       "doctor_recc_seasonal         24547.0      0.329735     0.470126  0.0     0.0   \n",
       "chronic_med_condition        25736.0      0.283261     0.450591  0.0     0.0   \n",
       "child_under_6_months         25887.0      0.082590     0.275266  0.0     0.0   \n",
       "health_worker                25903.0      0.111918     0.315271  0.0     0.0   \n",
       "health_insurance             14433.0      0.879720     0.325300  0.0     1.0   \n",
       "opinion_h1n1_vacc_effective  26316.0      3.850623     1.007436  1.0     3.0   \n",
       "opinion_h1n1_risk            26319.0      2.342566     1.285539  1.0     1.0   \n",
       "opinion_h1n1_sick_from_vacc  26312.0      2.357670     1.362766  1.0     1.0   \n",
       "opinion_seas_vacc_effective  26245.0      4.025986     1.086565  1.0     4.0   \n",
       "opinion_seas_risk            26193.0      2.719162     1.385055  1.0     2.0   \n",
       "opinion_seas_sick_from_vacc  26170.0      2.118112     1.332950  1.0     1.0   \n",
       "household_adults             26458.0      0.886499     0.753422  0.0     0.0   \n",
       "household_children           26458.0      0.534583     0.928173  0.0     0.0   \n",
       "\n",
       "                                 50%      75%      max  \n",
       "respondent_id                13353.0  20029.5  26706.0  \n",
       "h1n1_concern                     2.0      2.0      3.0  \n",
       "h1n1_knowledge                   1.0      2.0      2.0  \n",
       "behavioral_antiviral_meds        0.0      0.0      1.0  \n",
       "behavioral_avoidance             1.0      1.0      1.0  \n",
       "behavioral_face_mask             0.0      0.0      1.0  \n",
       "behavioral_wash_hands            1.0      1.0      1.0  \n",
       "behavioral_large_gatherings      0.0      1.0      1.0  \n",
       "behavioral_outside_home          0.0      1.0      1.0  \n",
       "behavioral_touch_face            1.0      1.0      1.0  \n",
       "doctor_recc_h1n1                 0.0      0.0      1.0  \n",
       "doctor_recc_seasonal             0.0      1.0      1.0  \n",
       "chronic_med_condition            0.0      1.0      1.0  \n",
       "child_under_6_months             0.0      0.0      1.0  \n",
       "health_worker                    0.0      0.0      1.0  \n",
       "health_insurance                 1.0      1.0      1.0  \n",
       "opinion_h1n1_vacc_effective      4.0      5.0      5.0  \n",
       "opinion_h1n1_risk                2.0      4.0      5.0  \n",
       "opinion_h1n1_sick_from_vacc      2.0      4.0      5.0  \n",
       "opinion_seas_vacc_effective      4.0      5.0      5.0  \n",
       "opinion_seas_risk                2.0      4.0      5.0  \n",
       "opinion_seas_sick_from_vacc      2.0      4.0      5.0  \n",
       "household_adults                 1.0      1.0      3.0  \n",
       "household_children               0.0      1.0      3.0  "
      ]
     },
     "execution_count": 3,
     "metadata": {},
     "output_type": "execute_result"
    }
   ],
   "source": [
    "print(data.shape)\n",
    "data.describe().T"
   ]
  },
  {
   "cell_type": "code",
   "execution_count": 4,
   "id": "3ea6768a",
   "metadata": {},
   "outputs": [
    {
     "data": {
      "text/html": [
       "<div>\n",
       "<style scoped>\n",
       "    .dataframe tbody tr th:only-of-type {\n",
       "        vertical-align: middle;\n",
       "    }\n",
       "\n",
       "    .dataframe tbody tr th {\n",
       "        vertical-align: top;\n",
       "    }\n",
       "\n",
       "    .dataframe thead th {\n",
       "        text-align: right;\n",
       "    }\n",
       "</style>\n",
       "<table border=\"1\" class=\"dataframe\">\n",
       "  <thead>\n",
       "    <tr style=\"text-align: right;\">\n",
       "      <th></th>\n",
       "      <th>respondent_id</th>\n",
       "      <th>h1n1_concern</th>\n",
       "      <th>h1n1_knowledge</th>\n",
       "      <th>behavioral_antiviral_meds</th>\n",
       "      <th>behavioral_avoidance</th>\n",
       "      <th>behavioral_face_mask</th>\n",
       "      <th>behavioral_wash_hands</th>\n",
       "      <th>behavioral_large_gatherings</th>\n",
       "      <th>behavioral_outside_home</th>\n",
       "      <th>behavioral_touch_face</th>\n",
       "      <th>...</th>\n",
       "      <th>income_poverty</th>\n",
       "      <th>marital_status</th>\n",
       "      <th>rent_or_own</th>\n",
       "      <th>employment_status</th>\n",
       "      <th>hhs_geo_region</th>\n",
       "      <th>census_msa</th>\n",
       "      <th>household_adults</th>\n",
       "      <th>household_children</th>\n",
       "      <th>employment_industry</th>\n",
       "      <th>employment_occupation</th>\n",
       "    </tr>\n",
       "  </thead>\n",
       "  <tbody>\n",
       "    <tr>\n",
       "      <th>0</th>\n",
       "      <td>0</td>\n",
       "      <td>1.0</td>\n",
       "      <td>0.0</td>\n",
       "      <td>0.0</td>\n",
       "      <td>0.0</td>\n",
       "      <td>0.0</td>\n",
       "      <td>0.0</td>\n",
       "      <td>0.0</td>\n",
       "      <td>1.0</td>\n",
       "      <td>1.0</td>\n",
       "      <td>...</td>\n",
       "      <td>Below Poverty</td>\n",
       "      <td>Not Married</td>\n",
       "      <td>Own</td>\n",
       "      <td>Not in Labor Force</td>\n",
       "      <td>oxchjgsf</td>\n",
       "      <td>Non-MSA</td>\n",
       "      <td>0.0</td>\n",
       "      <td>0.0</td>\n",
       "      <td>NaN</td>\n",
       "      <td>NaN</td>\n",
       "    </tr>\n",
       "    <tr>\n",
       "      <th>1</th>\n",
       "      <td>1</td>\n",
       "      <td>3.0</td>\n",
       "      <td>2.0</td>\n",
       "      <td>0.0</td>\n",
       "      <td>1.0</td>\n",
       "      <td>0.0</td>\n",
       "      <td>1.0</td>\n",
       "      <td>0.0</td>\n",
       "      <td>1.0</td>\n",
       "      <td>1.0</td>\n",
       "      <td>...</td>\n",
       "      <td>Below Poverty</td>\n",
       "      <td>Not Married</td>\n",
       "      <td>Rent</td>\n",
       "      <td>Employed</td>\n",
       "      <td>bhuqouqj</td>\n",
       "      <td>MSA, Not Principle  City</td>\n",
       "      <td>0.0</td>\n",
       "      <td>0.0</td>\n",
       "      <td>pxcmvdjn</td>\n",
       "      <td>xgwztkwe</td>\n",
       "    </tr>\n",
       "    <tr>\n",
       "      <th>2</th>\n",
       "      <td>2</td>\n",
       "      <td>1.0</td>\n",
       "      <td>1.0</td>\n",
       "      <td>0.0</td>\n",
       "      <td>1.0</td>\n",
       "      <td>0.0</td>\n",
       "      <td>0.0</td>\n",
       "      <td>0.0</td>\n",
       "      <td>0.0</td>\n",
       "      <td>0.0</td>\n",
       "      <td>...</td>\n",
       "      <td>&lt;= $75,000, Above Poverty</td>\n",
       "      <td>Not Married</td>\n",
       "      <td>Own</td>\n",
       "      <td>Employed</td>\n",
       "      <td>qufhixun</td>\n",
       "      <td>MSA, Not Principle  City</td>\n",
       "      <td>2.0</td>\n",
       "      <td>0.0</td>\n",
       "      <td>rucpziij</td>\n",
       "      <td>xtkaffoo</td>\n",
       "    </tr>\n",
       "    <tr>\n",
       "      <th>3</th>\n",
       "      <td>3</td>\n",
       "      <td>1.0</td>\n",
       "      <td>1.0</td>\n",
       "      <td>0.0</td>\n",
       "      <td>1.0</td>\n",
       "      <td>0.0</td>\n",
       "      <td>1.0</td>\n",
       "      <td>1.0</td>\n",
       "      <td>0.0</td>\n",
       "      <td>0.0</td>\n",
       "      <td>...</td>\n",
       "      <td>Below Poverty</td>\n",
       "      <td>Not Married</td>\n",
       "      <td>Rent</td>\n",
       "      <td>Not in Labor Force</td>\n",
       "      <td>lrircsnp</td>\n",
       "      <td>MSA, Principle City</td>\n",
       "      <td>0.0</td>\n",
       "      <td>0.0</td>\n",
       "      <td>NaN</td>\n",
       "      <td>NaN</td>\n",
       "    </tr>\n",
       "    <tr>\n",
       "      <th>4</th>\n",
       "      <td>4</td>\n",
       "      <td>2.0</td>\n",
       "      <td>1.0</td>\n",
       "      <td>0.0</td>\n",
       "      <td>1.0</td>\n",
       "      <td>0.0</td>\n",
       "      <td>1.0</td>\n",
       "      <td>1.0</td>\n",
       "      <td>0.0</td>\n",
       "      <td>1.0</td>\n",
       "      <td>...</td>\n",
       "      <td>&lt;= $75,000, Above Poverty</td>\n",
       "      <td>Married</td>\n",
       "      <td>Own</td>\n",
       "      <td>Employed</td>\n",
       "      <td>qufhixun</td>\n",
       "      <td>MSA, Not Principle  City</td>\n",
       "      <td>1.0</td>\n",
       "      <td>0.0</td>\n",
       "      <td>wxleyezf</td>\n",
       "      <td>emcorrxb</td>\n",
       "    </tr>\n",
       "  </tbody>\n",
       "</table>\n",
       "<p>5 rows × 36 columns</p>\n",
       "</div>"
      ],
      "text/plain": [
       "   respondent_id  h1n1_concern  h1n1_knowledge  behavioral_antiviral_meds  \\\n",
       "0              0           1.0             0.0                        0.0   \n",
       "1              1           3.0             2.0                        0.0   \n",
       "2              2           1.0             1.0                        0.0   \n",
       "3              3           1.0             1.0                        0.0   \n",
       "4              4           2.0             1.0                        0.0   \n",
       "\n",
       "   behavioral_avoidance  behavioral_face_mask  behavioral_wash_hands  \\\n",
       "0                   0.0                   0.0                    0.0   \n",
       "1                   1.0                   0.0                    1.0   \n",
       "2                   1.0                   0.0                    0.0   \n",
       "3                   1.0                   0.0                    1.0   \n",
       "4                   1.0                   0.0                    1.0   \n",
       "\n",
       "   behavioral_large_gatherings  behavioral_outside_home  \\\n",
       "0                          0.0                      1.0   \n",
       "1                          0.0                      1.0   \n",
       "2                          0.0                      0.0   \n",
       "3                          1.0                      0.0   \n",
       "4                          1.0                      0.0   \n",
       "\n",
       "   behavioral_touch_face  ...             income_poverty  marital_status  \\\n",
       "0                    1.0  ...              Below Poverty     Not Married   \n",
       "1                    1.0  ...              Below Poverty     Not Married   \n",
       "2                    0.0  ...  <= $75,000, Above Poverty     Not Married   \n",
       "3                    0.0  ...              Below Poverty     Not Married   \n",
       "4                    1.0  ...  <= $75,000, Above Poverty         Married   \n",
       "\n",
       "   rent_or_own   employment_status  hhs_geo_region                census_msa  \\\n",
       "0          Own  Not in Labor Force        oxchjgsf                   Non-MSA   \n",
       "1         Rent            Employed        bhuqouqj  MSA, Not Principle  City   \n",
       "2          Own            Employed        qufhixun  MSA, Not Principle  City   \n",
       "3         Rent  Not in Labor Force        lrircsnp       MSA, Principle City   \n",
       "4          Own            Employed        qufhixun  MSA, Not Principle  City   \n",
       "\n",
       "   household_adults  household_children  employment_industry  \\\n",
       "0               0.0                 0.0                  NaN   \n",
       "1               0.0                 0.0             pxcmvdjn   \n",
       "2               2.0                 0.0             rucpziij   \n",
       "3               0.0                 0.0                  NaN   \n",
       "4               1.0                 0.0             wxleyezf   \n",
       "\n",
       "   employment_occupation  \n",
       "0                    NaN  \n",
       "1               xgwztkwe  \n",
       "2               xtkaffoo  \n",
       "3                    NaN  \n",
       "4               emcorrxb  \n",
       "\n",
       "[5 rows x 36 columns]"
      ]
     },
     "execution_count": 4,
     "metadata": {},
     "output_type": "execute_result"
    }
   ],
   "source": [
    "data.head()"
   ]
  },
  {
   "cell_type": "code",
   "execution_count": 5,
   "id": "1a96697d",
   "metadata": {},
   "outputs": [
    {
     "name": "stdout",
     "output_type": "stream",
     "text": [
      "(26707, 3)\n"
     ]
    },
    {
     "data": {
      "text/html": [
       "<div>\n",
       "<style scoped>\n",
       "    .dataframe tbody tr th:only-of-type {\n",
       "        vertical-align: middle;\n",
       "    }\n",
       "\n",
       "    .dataframe tbody tr th {\n",
       "        vertical-align: top;\n",
       "    }\n",
       "\n",
       "    .dataframe thead th {\n",
       "        text-align: right;\n",
       "    }\n",
       "</style>\n",
       "<table border=\"1\" class=\"dataframe\">\n",
       "  <thead>\n",
       "    <tr style=\"text-align: right;\">\n",
       "      <th></th>\n",
       "      <th>count</th>\n",
       "      <th>mean</th>\n",
       "      <th>std</th>\n",
       "      <th>min</th>\n",
       "      <th>25%</th>\n",
       "      <th>50%</th>\n",
       "      <th>75%</th>\n",
       "      <th>max</th>\n",
       "    </tr>\n",
       "  </thead>\n",
       "  <tbody>\n",
       "    <tr>\n",
       "      <th>respondent_id</th>\n",
       "      <td>26707.0</td>\n",
       "      <td>13353.000000</td>\n",
       "      <td>7709.791156</td>\n",
       "      <td>0.0</td>\n",
       "      <td>6676.5</td>\n",
       "      <td>13353.0</td>\n",
       "      <td>20029.5</td>\n",
       "      <td>26706.0</td>\n",
       "    </tr>\n",
       "    <tr>\n",
       "      <th>h1n1_vaccine</th>\n",
       "      <td>26707.0</td>\n",
       "      <td>0.212454</td>\n",
       "      <td>0.409052</td>\n",
       "      <td>0.0</td>\n",
       "      <td>0.0</td>\n",
       "      <td>0.0</td>\n",
       "      <td>0.0</td>\n",
       "      <td>1.0</td>\n",
       "    </tr>\n",
       "    <tr>\n",
       "      <th>seasonal_vaccine</th>\n",
       "      <td>26707.0</td>\n",
       "      <td>0.465608</td>\n",
       "      <td>0.498825</td>\n",
       "      <td>0.0</td>\n",
       "      <td>0.0</td>\n",
       "      <td>0.0</td>\n",
       "      <td>1.0</td>\n",
       "      <td>1.0</td>\n",
       "    </tr>\n",
       "  </tbody>\n",
       "</table>\n",
       "</div>"
      ],
      "text/plain": [
       "                    count          mean          std  min     25%      50%  \\\n",
       "respondent_id     26707.0  13353.000000  7709.791156  0.0  6676.5  13353.0   \n",
       "h1n1_vaccine      26707.0      0.212454     0.409052  0.0     0.0      0.0   \n",
       "seasonal_vaccine  26707.0      0.465608     0.498825  0.0     0.0      0.0   \n",
       "\n",
       "                      75%      max  \n",
       "respondent_id     20029.5  26706.0  \n",
       "h1n1_vaccine          0.0      1.0  \n",
       "seasonal_vaccine      1.0      1.0  "
      ]
     },
     "execution_count": 5,
     "metadata": {},
     "output_type": "execute_result"
    }
   ],
   "source": [
    "print(label.shape)\n",
    "label.describe().T"
   ]
  },
  {
   "cell_type": "code",
   "execution_count": 6,
   "id": "6d9152a6",
   "metadata": {},
   "outputs": [
    {
     "name": "stdout",
     "output_type": "stream",
     "text": [
      "<class 'pandas.core.frame.DataFrame'>\n",
      "RangeIndex: 26707 entries, 0 to 26706\n",
      "Data columns (total 3 columns):\n",
      " #   Column            Non-Null Count  Dtype\n",
      "---  ------            --------------  -----\n",
      " 0   respondent_id     26707 non-null  int64\n",
      " 1   h1n1_vaccine      26707 non-null  int64\n",
      " 2   seasonal_vaccine  26707 non-null  int64\n",
      "dtypes: int64(3)\n",
      "memory usage: 626.1 KB\n"
     ]
    }
   ],
   "source": [
    "label.info()"
   ]
  },
  {
   "cell_type": "markdown",
   "id": "46aac630",
   "metadata": {},
   "source": [
    "# Data Clean"
   ]
  },
  {
   "cell_type": "code",
   "execution_count": 7,
   "id": "9b115ea4",
   "metadata": {},
   "outputs": [],
   "source": [
    "### merge"
   ]
  },
  {
   "cell_type": "code",
   "execution_count": 8,
   "id": "6f7710cb",
   "metadata": {},
   "outputs": [
    {
     "data": {
      "text/html": [
       "<div>\n",
       "<style scoped>\n",
       "    .dataframe tbody tr th:only-of-type {\n",
       "        vertical-align: middle;\n",
       "    }\n",
       "\n",
       "    .dataframe tbody tr th {\n",
       "        vertical-align: top;\n",
       "    }\n",
       "\n",
       "    .dataframe thead th {\n",
       "        text-align: right;\n",
       "    }\n",
       "</style>\n",
       "<table border=\"1\" class=\"dataframe\">\n",
       "  <thead>\n",
       "    <tr style=\"text-align: right;\">\n",
       "      <th></th>\n",
       "      <th>respondent_id</th>\n",
       "      <th>h1n1_vaccine</th>\n",
       "      <th>seasonal_vaccine</th>\n",
       "      <th>h1n1_concern</th>\n",
       "      <th>h1n1_knowledge</th>\n",
       "      <th>behavioral_antiviral_meds</th>\n",
       "      <th>behavioral_avoidance</th>\n",
       "      <th>behavioral_face_mask</th>\n",
       "      <th>behavioral_wash_hands</th>\n",
       "      <th>behavioral_large_gatherings</th>\n",
       "      <th>...</th>\n",
       "      <th>income_poverty</th>\n",
       "      <th>marital_status</th>\n",
       "      <th>rent_or_own</th>\n",
       "      <th>employment_status</th>\n",
       "      <th>hhs_geo_region</th>\n",
       "      <th>census_msa</th>\n",
       "      <th>household_adults</th>\n",
       "      <th>household_children</th>\n",
       "      <th>employment_industry</th>\n",
       "      <th>employment_occupation</th>\n",
       "    </tr>\n",
       "  </thead>\n",
       "  <tbody>\n",
       "    <tr>\n",
       "      <th>0</th>\n",
       "      <td>0</td>\n",
       "      <td>0</td>\n",
       "      <td>0</td>\n",
       "      <td>1.0</td>\n",
       "      <td>0.0</td>\n",
       "      <td>0.0</td>\n",
       "      <td>0.0</td>\n",
       "      <td>0.0</td>\n",
       "      <td>0.0</td>\n",
       "      <td>0.0</td>\n",
       "      <td>...</td>\n",
       "      <td>Below Poverty</td>\n",
       "      <td>Not Married</td>\n",
       "      <td>Own</td>\n",
       "      <td>Not in Labor Force</td>\n",
       "      <td>oxchjgsf</td>\n",
       "      <td>Non-MSA</td>\n",
       "      <td>0.0</td>\n",
       "      <td>0.0</td>\n",
       "      <td>NaN</td>\n",
       "      <td>NaN</td>\n",
       "    </tr>\n",
       "    <tr>\n",
       "      <th>1</th>\n",
       "      <td>1</td>\n",
       "      <td>0</td>\n",
       "      <td>1</td>\n",
       "      <td>3.0</td>\n",
       "      <td>2.0</td>\n",
       "      <td>0.0</td>\n",
       "      <td>1.0</td>\n",
       "      <td>0.0</td>\n",
       "      <td>1.0</td>\n",
       "      <td>0.0</td>\n",
       "      <td>...</td>\n",
       "      <td>Below Poverty</td>\n",
       "      <td>Not Married</td>\n",
       "      <td>Rent</td>\n",
       "      <td>Employed</td>\n",
       "      <td>bhuqouqj</td>\n",
       "      <td>MSA, Not Principle  City</td>\n",
       "      <td>0.0</td>\n",
       "      <td>0.0</td>\n",
       "      <td>pxcmvdjn</td>\n",
       "      <td>xgwztkwe</td>\n",
       "    </tr>\n",
       "    <tr>\n",
       "      <th>2</th>\n",
       "      <td>2</td>\n",
       "      <td>0</td>\n",
       "      <td>0</td>\n",
       "      <td>1.0</td>\n",
       "      <td>1.0</td>\n",
       "      <td>0.0</td>\n",
       "      <td>1.0</td>\n",
       "      <td>0.0</td>\n",
       "      <td>0.0</td>\n",
       "      <td>0.0</td>\n",
       "      <td>...</td>\n",
       "      <td>&lt;= $75,000, Above Poverty</td>\n",
       "      <td>Not Married</td>\n",
       "      <td>Own</td>\n",
       "      <td>Employed</td>\n",
       "      <td>qufhixun</td>\n",
       "      <td>MSA, Not Principle  City</td>\n",
       "      <td>2.0</td>\n",
       "      <td>0.0</td>\n",
       "      <td>rucpziij</td>\n",
       "      <td>xtkaffoo</td>\n",
       "    </tr>\n",
       "    <tr>\n",
       "      <th>3</th>\n",
       "      <td>3</td>\n",
       "      <td>0</td>\n",
       "      <td>1</td>\n",
       "      <td>1.0</td>\n",
       "      <td>1.0</td>\n",
       "      <td>0.0</td>\n",
       "      <td>1.0</td>\n",
       "      <td>0.0</td>\n",
       "      <td>1.0</td>\n",
       "      <td>1.0</td>\n",
       "      <td>...</td>\n",
       "      <td>Below Poverty</td>\n",
       "      <td>Not Married</td>\n",
       "      <td>Rent</td>\n",
       "      <td>Not in Labor Force</td>\n",
       "      <td>lrircsnp</td>\n",
       "      <td>MSA, Principle City</td>\n",
       "      <td>0.0</td>\n",
       "      <td>0.0</td>\n",
       "      <td>NaN</td>\n",
       "      <td>NaN</td>\n",
       "    </tr>\n",
       "    <tr>\n",
       "      <th>4</th>\n",
       "      <td>4</td>\n",
       "      <td>0</td>\n",
       "      <td>0</td>\n",
       "      <td>2.0</td>\n",
       "      <td>1.0</td>\n",
       "      <td>0.0</td>\n",
       "      <td>1.0</td>\n",
       "      <td>0.0</td>\n",
       "      <td>1.0</td>\n",
       "      <td>1.0</td>\n",
       "      <td>...</td>\n",
       "      <td>&lt;= $75,000, Above Poverty</td>\n",
       "      <td>Married</td>\n",
       "      <td>Own</td>\n",
       "      <td>Employed</td>\n",
       "      <td>qufhixun</td>\n",
       "      <td>MSA, Not Principle  City</td>\n",
       "      <td>1.0</td>\n",
       "      <td>0.0</td>\n",
       "      <td>wxleyezf</td>\n",
       "      <td>emcorrxb</td>\n",
       "    </tr>\n",
       "  </tbody>\n",
       "</table>\n",
       "<p>5 rows × 38 columns</p>\n",
       "</div>"
      ],
      "text/plain": [
       "   respondent_id  h1n1_vaccine  seasonal_vaccine  h1n1_concern  \\\n",
       "0              0             0                 0           1.0   \n",
       "1              1             0                 1           3.0   \n",
       "2              2             0                 0           1.0   \n",
       "3              3             0                 1           1.0   \n",
       "4              4             0                 0           2.0   \n",
       "\n",
       "   h1n1_knowledge  behavioral_antiviral_meds  behavioral_avoidance  \\\n",
       "0             0.0                        0.0                   0.0   \n",
       "1             2.0                        0.0                   1.0   \n",
       "2             1.0                        0.0                   1.0   \n",
       "3             1.0                        0.0                   1.0   \n",
       "4             1.0                        0.0                   1.0   \n",
       "\n",
       "   behavioral_face_mask  behavioral_wash_hands  behavioral_large_gatherings  \\\n",
       "0                   0.0                    0.0                          0.0   \n",
       "1                   0.0                    1.0                          0.0   \n",
       "2                   0.0                    0.0                          0.0   \n",
       "3                   0.0                    1.0                          1.0   \n",
       "4                   0.0                    1.0                          1.0   \n",
       "\n",
       "   ...             income_poverty  marital_status  rent_or_own  \\\n",
       "0  ...              Below Poverty     Not Married          Own   \n",
       "1  ...              Below Poverty     Not Married         Rent   \n",
       "2  ...  <= $75,000, Above Poverty     Not Married          Own   \n",
       "3  ...              Below Poverty     Not Married         Rent   \n",
       "4  ...  <= $75,000, Above Poverty         Married          Own   \n",
       "\n",
       "    employment_status  hhs_geo_region                census_msa  \\\n",
       "0  Not in Labor Force        oxchjgsf                   Non-MSA   \n",
       "1            Employed        bhuqouqj  MSA, Not Principle  City   \n",
       "2            Employed        qufhixun  MSA, Not Principle  City   \n",
       "3  Not in Labor Force        lrircsnp       MSA, Principle City   \n",
       "4            Employed        qufhixun  MSA, Not Principle  City   \n",
       "\n",
       "   household_adults  household_children  employment_industry  \\\n",
       "0               0.0                 0.0                  NaN   \n",
       "1               0.0                 0.0             pxcmvdjn   \n",
       "2               2.0                 0.0             rucpziij   \n",
       "3               0.0                 0.0                  NaN   \n",
       "4               1.0                 0.0             wxleyezf   \n",
       "\n",
       "   employment_occupation  \n",
       "0                    NaN  \n",
       "1               xgwztkwe  \n",
       "2               xtkaffoo  \n",
       "3                    NaN  \n",
       "4               emcorrxb  \n",
       "\n",
       "[5 rows x 38 columns]"
      ]
     },
     "execution_count": 8,
     "metadata": {},
     "output_type": "execute_result"
    }
   ],
   "source": [
    "data = label.merge(data, left_on='respondent_id', right_on='respondent_id')\n",
    "data.head()"
   ]
  },
  {
   "cell_type": "code",
   "execution_count": 9,
   "id": "e164e29e",
   "metadata": {},
   "outputs": [
    {
     "data": {
      "image/png": "[encoded data removed]",
      "text/plain": [
       "<Figure size 432x288 with 2 Axes>"
      ]
     },
     "metadata": {
      "needs_background": "light"
     },
     "output_type": "display_data"
    }
   ],
   "source": [
    "fig, axs = plt.subplots(1, 2)\n",
    "fig.suptitle('Target Labels')\n",
    "sns.countplot(ax=axs[0], x=\"h1n1_vaccine\", data=data)\n",
    "axs[0].set_title('h1n1_vaccine')\n",
    "axs[0].set_ylim(2000, 21000)\n",
    "sns.countplot(ax=axs[1], x=\"seasonal_vaccine\", data=data)\n",
    "axs[1].set_title('seasonal_vaccine')\n",
    "axs[1].set_ylim(2000, 15000)\n",
    "plt.tight_layout()\n",
    "plt.show()"
   ]
  },
  {
   "cell_type": "code",
   "execution_count": 10,
   "id": "32f7719f",
   "metadata": {},
   "outputs": [
    {
     "data": {
      "text/plain": [
       "0    21033\n",
       "1     5674\n",
       "Name: h1n1_vaccine, dtype: int64"
      ]
     },
     "execution_count": 10,
     "metadata": {},
     "output_type": "execute_result"
    }
   ],
   "source": [
    "data['h1n1_vaccine'].value_counts()"
   ]
  },
  {
   "cell_type": "code",
   "execution_count": 11,
   "id": "515700a2",
   "metadata": {},
   "outputs": [
    {
     "data": {
      "text/plain": [
       "0    14272\n",
       "1    12435\n",
       "Name: seasonal_vaccine, dtype: int64"
      ]
     },
     "execution_count": 11,
     "metadata": {},
     "output_type": "execute_result"
    }
   ],
   "source": [
    "data['seasonal_vaccine'].value_counts()"
   ]
  },
  {
   "cell_type": "code",
   "execution_count": 12,
   "id": "78f71d6d",
   "metadata": {},
   "outputs": [],
   "source": [
    "### drop"
   ]
  },
  {
   "cell_type": "code",
   "execution_count": 13,
   "id": "023672d8",
   "metadata": {},
   "outputs": [
    {
     "data": {
      "text/plain": [
       "(22936, 38)"
      ]
     },
     "execution_count": 13,
     "metadata": {},
     "output_type": "execute_result"
    }
   ],
   "source": [
    "data = data.dropna(thresh=35).copy()  # drop rows that have less than 30 non-NaN\n",
    "data.shape"
   ]
  },
  {
   "cell_type": "code",
   "execution_count": 14,
   "id": "82a5b53a",
   "metadata": {},
   "outputs": [],
   "source": [
    "data.drop(\"respondent_id\",axis = 1,inplace = True)\n",
    "data.drop(\"employment_industry\",axis = 1,inplace = True)\n",
    "data.drop(\"employment_occupation\",axis = 1,inplace = True)\n",
    "data.drop(\"hhs_geo_region\",axis = 1,inplace = True)"
   ]
  },
  {
   "cell_type": "code",
   "execution_count": 15,
   "id": "ca4ba5e3",
   "metadata": {},
   "outputs": [],
   "source": [
    "### text values to numeric values"
   ]
  },
  {
   "cell_type": "code",
   "execution_count": 16,
   "id": "f9b7a623",
   "metadata": {},
   "outputs": [],
   "source": [
    "data[\"age_group\"].unique() #'55 - 64 Years', '35 - 44 Years', '18 - 34 Years', '65+ Years','45 - 54 Years'\n",
    "age_group_mapping = {\"18 - 34 Years\":1,\"35 - 44 Years\":2,\"45 - 54 Years\":3,\"55 - 64 Years\":4,\"65+ Years\":5}\n",
    "data[\"age_group\"] = data[\"age_group\"].replace(age_group_mapping)\n",
    "\n",
    "data[\"race\"].unique() #'White', 'Black', 'Other or Multiple', 'Hispanic'\n",
    "race_mapping = {\"White\":1,\"Black\":2,\"Other or Multiple\":3,\"Hispanic\":4}\n",
    "data[\"race\"] = data[\"race\"].replace(race_mapping)\n",
    "\n",
    "data[\"sex\"].unique()\n",
    "sex_mapping = {\"Female\":0,\"Male\":1}\n",
    "data[\"sex\"] = data[\"sex\"].replace(sex_mapping)\n",
    "\n",
    "data[\"census_msa\"].unique() #'Non-MSA', 'MSA, Not Principle  City', 'MSA, Principle City'\n",
    "census_msa_mapping = {\"Non-MSA\":0,\"MSA, Not Principle  City\":1,\"MSA, Principle City\":2}\n",
    "data[\"census_msa\"] = data[\"census_msa\"].replace(census_msa_mapping)\n",
    "\n",
    "data[\"employment_status\"].unique()# 'Not in Labor Force', 'Employed', 'Unemployed'\n",
    "employment_status_mapping = {'Not in Labor Force':1,'Unemployed':2,\"Employed\":3}\n",
    "data[\"employment_status\"] = data[\"employment_status\"].replace(employment_status_mapping)\n",
    "\n",
    "data[\"rent_or_own\"].unique()# 'Own', 'Rent'\n",
    "rent_or_own_mapping = {\"Own\":0,\"Rent\":1}\n",
    "data[\"rent_or_own\"] = data[\"rent_or_own\"].replace(rent_or_own_mapping)\n",
    "\n",
    "data[\"marital_status\"].unique()# 'Not Married', 'Married'\n",
    "marital_status_mapping = {\"Not Married\":0,\"Married\":1}\n",
    "data[\"marital_status\"] = data[\"marital_status\"].replace(marital_status_mapping)\n",
    "\n",
    "data[\"income_poverty\"].unique() # 'Below Poverty', '<= $75,000, Above Poverty', '> $75,000'\n",
    "income_poverty_mapping = {\"Below Poverty\":1,\"<= $75,000, Above Poverty\":2,\"> $75,000\":3}\n",
    "data[\"income_poverty\"] = data[\"income_poverty\"].replace(income_poverty_mapping)\n",
    "\n",
    "data[\"education\"].unique().tolist() #['< 12 Years', '12 Years', 'College Graduate', 'Some College', nan]\n",
    "education_mapping = {\"< 12 Years\":1,\"12 Years\":2,\"College Graduate\":3,\"Some College\":4}\n",
    "data[\"education\"] = data[\"education\"].replace(education_mapping)"
   ]
  },
  {
   "cell_type": "markdown",
   "id": "69459dd0",
   "metadata": {},
   "source": [
    "### Filling"
   ]
  },
  {
   "cell_type": "code",
   "execution_count": 17,
   "id": "ef3d201f",
   "metadata": {},
   "outputs": [
    {
     "name": "stdout",
     "output_type": "stream",
     "text": [
      "Index([], dtype='object')\n"
     ]
    }
   ],
   "source": [
    "# fill by mean\n",
    "\n",
    "for column in list(data.columns[data.isnull().sum() > 0]):\n",
    "    mean_val = data[column].mean()\n",
    "    data[column].fillna(mean_val, inplace=True)\n",
    "print(data.columns[data.isnull().sum() > 0])\n"
   ]
  },
  {
   "cell_type": "code",
   "execution_count": 18,
   "id": "a83589d2",
   "metadata": {},
   "outputs": [
    {
     "name": "stdout",
     "output_type": "stream",
     "text": [
      "0.17256105833620747\n",
      "0.13360430643225793\n",
      "0.10490397717655323\n",
      "0.1581378916039776\n",
      "0.2751074505385841\n",
      "0.21377625181415225\n",
      "0.18611721372705708\n",
      "0.36337497942988584\n",
      "['h1n1_vaccine', 'seasonal_vaccine', 'h1n1_concern', 'h1n1_knowledge', 'behavioral_antiviral_meds', 'behavioral_avoidance', 'behavioral_face_mask', 'behavioral_wash_hands', 'behavioral_large_gatherings', 'behavioral_outside_home', 'behavioral_touch_face', 'doctor_recc_h1n1', 'doctor_recc_seasonal', 'chronic_med_condition', 'child_under_6_months', 'health_worker', 'health_insurance', 'opinion_h1n1_vacc_effective', 'opinion_h1n1_risk', 'opinion_h1n1_sick_from_vacc', 'opinion_seas_vacc_effective', 'opinion_seas_risk', 'opinion_seas_sick_from_vacc', 'age_group', 'education', 'race', 'sex', 'income_poverty', 'marital_status', 'rent_or_own', 'employment_status', 'census_msa', 'household_adults', 'household_children']\n"
     ]
    }
   ],
   "source": [
    "# 处理education列\n",
    "# 标签编码（Label Encoding）,将education转换为对应的等级\n",
    "\n",
    "data.corrwith(data[\"education\"]) # 通过计算，其余列与其相关性均小于0.2，所以我们用随即数进行填充\n",
    "data[\"education\"].replace(np.nan,np.random.randint(1,5),inplace = True)\n",
    "\n",
    "data.corrwith(data[\"income_poverty\"])# 通过计算，其余列与其相关性最大为0.257575，所以我们用随即数进行填充\n",
    "data[\"income_poverty\"].replace(np.nan,np.random.randint(1,4),inplace = True)\n",
    "\n",
    "abs(data.corrwith(data[\"marital_status\"])).mask(data.corrwith(data[\"marital_status\"]) == 1).max()# 通过计算，其余列与其相关性最大为0.386，所以我们用随即数进行填充\n",
    "data[\"marital_status\"].replace(np.nan,np.random.randint(0,2),inplace = True)\n",
    "\n",
    "abs(data.corrwith(data[\"rent_or_own\"])).mask(data.corrwith(data[\"rent_or_own\"]) == 1).max() # 通过计算，其余列与其相关性最大为0.28238，所以我们用随即数进行填充\n",
    "data[\"rent_or_own\"].replace(np.nan,np.random.randint(0,2),inplace = True)\n",
    "\n",
    "abs(data.corrwith(data[\"employment_status\"])).mask(data.corrwith(data[\"employment_status\"]) == 1).max()# 通过计算，其余列与其相关性最大为0.21543，所以我们用随即数进行填充\n",
    "data[\"employment_status\"].replace(np.nan,np.random.randint(1,4),inplace = True)\n",
    "\n",
    "data[\"h1n1_concern\"].corr(data[\"h1n1_vaccine\"]) # 同时可以看到，疫苗关注度和疫苗接种率相关系数为0.1219，基本没有相关性\n",
    "for i in range(4):\n",
    "    len(data[(data[\"h1n1_concern\"] == i ) & (data[\"h1n1_vaccine\"] == 1)])\n",
    "# (447 1397 2473 1341) 可以看到并没有因为对于h1n1关注度上升而导致接种率上升\n",
    "data[\"h1n1_concern\"].replace(np.nan,np.random.randint(0,4),inplace = True) #随机填充\n",
    "\n",
    "# 处理h1n1_knowledge列\n",
    "data[\"h1n1_knowledge\"].unique()# 0.,  2.,  1\n",
    "data[\"h1n1_knowledge\"].replace(np.nan,np.random.randint(0,3),inplace = True) #随机填充\n",
    "\n",
    "# 处理health_worker列\n",
    "print(data[\"health_worker\"].corr(label[\"h1n1_vaccine\"])) #相关系数为0.17\n",
    "print(data[\"health_worker\"].corr(label[\"seasonal_vaccine\"]))#相关系数为0.127\n",
    "data[\"health_worker\"].replace(np.nan,np.random.randint(0,2),inplace = True)\n",
    "\n",
    "# 处理health_insurance列\n",
    "print(data[\"health_insurance\"].corr(label[\"h1n1_vaccine\"])) #相关系数为0.121\n",
    "print(data[\"health_insurance\"].corr(label[\"seasonal_vaccine\"]))#相关系数为0.201\n",
    "data[\"health_insurance\"].replace(np.nan,np.random.randint(0,2),inplace = True)\n",
    "\n",
    "# 处理opinion_h1n1_vacc_effective列\n",
    "print(data[\"opinion_h1n1_vacc_effective\"].corr(label[\"h1n1_vaccine\"])) #相关系数为0.269\n",
    "print(data[\"opinion_h1n1_vacc_effective\"].corr(label[\"seasonal_vaccine\"]))#相关系数为0.205\n",
    "data[\"opinion_h1n1_vacc_effective\"].replace(np.nan,np.random.randint(1,6),inplace = True)\n",
    "\n",
    "# 处理opinion_h1n1_vacc_effective列\n",
    "print(data[\"opinion_seas_vacc_effective\"].corr(label[\"h1n1_vaccine\"])) #相关系数为0.179\n",
    "print(data[\"opinion_seas_vacc_effective\"].corr(label[\"seasonal_vaccine\"]))#相关系数为0.362\n",
    "data[\"opinion_seas_vacc_effective\"].replace(np.nan,np.random.randint(1,6),inplace = True)\n",
    "\n",
    "missingData = data.isnull()\n",
    "missingData_list = []\n",
    "for column in missingData.columns.values.tolist():\n",
    "    if(missingData[column].value_counts().mode()[0].sum() < 26707):\n",
    "        missingData_list.append(column) \n",
    "print(missingData_list) "
   ]
  },
  {
   "cell_type": "code",
   "execution_count": 19,
   "id": "fdcbf827",
   "metadata": {},
   "outputs": [
    {
     "name": "stdout",
     "output_type": "stream",
     "text": [
      "h1n1_vaccine   0.39355001258976335\n",
      "seasonal_vaccine   0.4062825008797649\n",
      "h1n1_concern   0.37679145853909085\n",
      "h1n1_knowledge   0.23190782414038882\n",
      "behavioral_antiviral_meds   0.14661446996147015\n",
      "behavioral_avoidance   0.3357944477213812\n",
      "behavioral_face_mask   0.1782028239224796\n",
      "behavioral_wash_hands   0.36345049019157977\n",
      "behavioral_large_gatherings   0.5857807188022734\n",
      "behavioral_outside_home   0.5857807188022734\n",
      "behavioral_touch_face   0.36345049019157977\n",
      "doctor_recc_h1n1   0.5982195282478109\n",
      "doctor_recc_seasonal   0.5982195282478109\n",
      "chronic_med_condition   0.20939089149765375\n",
      "child_under_6_months   0.09332340691117917\n",
      "health_worker   0.20462724685872652\n",
      "health_insurance   0.18888842616876067\n",
      "opinion_h1n1_vacc_effective   0.4728312940012031\n",
      "opinion_h1n1_risk   0.5649512719816984\n",
      "opinion_h1n1_sick_from_vacc   0.49045062464226313\n",
      "opinion_seas_vacc_effective   0.4728312940012031\n",
      "opinion_seas_risk   0.5649512719816984\n",
      "opinion_seas_sick_from_vacc   0.49045062464226313\n",
      "age_group   0.28043316218820497\n",
      "education   0.2174389612380329\n",
      "race   0.20945391584737788\n",
      "sex   0.11899253453834568\n",
      "income_poverty   0.3135930744213805\n",
      "marital_status   0.37859693255398347\n",
      "rent_or_own   0.20945391584737788\n",
      "employment_status   0.2506817135973634\n",
      "census_msa   0.1106426390134858\n",
      "household_adults   0.37859693255398347\n",
      "household_children   0.21392689202058926\n"
     ]
    },
    {
     "name": "stderr",
     "output_type": "stream",
     "text": [
      "C:\\Users\\Eric Dai\\AppData\\Local\\Temp\\ipykernel_47872\\896108028.py:12: DeprecationWarning: `np.str` is a deprecated alias for the builtin `str`. To silence this warning, use `str` by itself. Doing this will not modify any behavior and is safe. If you specifically wanted the numpy scalar type, use `np.str_` here.\n",
      "Deprecated in NumPy 1.20; for more details and guidance: https://numpy.org/devdocs/release/1.20.0-notes.html#deprecations\n",
      "  print(col + \"   \"+ data_corr.loc[max_corr_row[col],col].astype(np.str)) #可以看到，相关系数最大不超过0.6\n"
     ]
    }
   ],
   "source": [
    "data_corr = data.corr()\n",
    "\n",
    "missingData_list1 = [m for m in missingData_list if m in data_corr.columns] #能够按照相关性来补充值得列\n",
    "missingData_list2 = [m for m in missingData_list if m not in data_corr.columns] #不够按照相关性来补充值得列\n",
    "\n",
    "data_corr = data_corr[missingData_list1]\n",
    "max_value = data_corr[data_corr.abs() < 1].max(axis=0)\n",
    "max_corr_row = data_corr.abs().eq(max_value).idxmax()\n",
    "max_corr_row #找到missingData_list1中相关性绝对值最大的行的名称\n",
    "\n",
    "for col in missingData_list1:\n",
    "    print(col + \"   \"+ data_corr.loc[max_corr_row[col],col].astype(np.str)) #可以看到，相关系数最大不超过0.6"
   ]
  },
  {
   "cell_type": "code",
   "execution_count": 20,
   "id": "4c8d5b77",
   "metadata": {
    "scrolled": true
   },
   "outputs": [
    {
     "name": "stdout",
     "output_type": "stream",
     "text": [
      "behavioral_large_gatherings ---- behavioral_outside_home : 0.5857807188022734\n",
      "behavioral_outside_home ---- behavioral_large_gatherings : 0.5857807188022734\n",
      "doctor_recc_h1n1 ---- doctor_recc_seasonal : 0.5982195282478109\n",
      "doctor_recc_seasonal ---- doctor_recc_h1n1 : 0.5982195282478109\n",
      "opinion_h1n1_risk ---- opinion_seas_risk : 0.5649512719816984\n",
      "opinion_seas_risk ---- opinion_h1n1_risk : 0.5649512719816984\n"
     ]
    },
    {
     "name": "stderr",
     "output_type": "stream",
     "text": [
      "C:\\Users\\Eric Dai\\AppData\\Local\\Temp\\ipykernel_47872\\2827654912.py:9: DeprecationWarning: `np.str` is a deprecated alias for the builtin `str`. To silence this warning, use `str` by itself. Doing this will not modify any behavior and is safe. If you specifically wanted the numpy scalar type, use `np.str_` here.\n",
      "Deprecated in NumPy 1.20; for more details and guidance: https://numpy.org/devdocs/release/1.20.0-notes.html#deprecations\n",
      "  print(i + \" ---- \"+ max_corr_row[i] + \" : \"+data_corr.loc[max_corr_row[i],i].astype(np.str)) #首先处理missingData_list1的数据\n"
     ]
    }
   ],
   "source": [
    "missingData_list3 = [col for col in missingData_list1 if data_corr.loc[max_corr_row[col],col] > 0.5]\n",
    "missingData_list1 = [i for i in missingData_list1 if i not in missingData_list3]\n",
    "for i in missingData_list1:\n",
    "    missingData_list2.append(i) \n",
    "    \n",
    "missingData_list1 = missingData_list3 #目前missingData_list1是含相关性大于0.5的列，missingData_list2是相关性小于0.5或者不能用相关性判断的列\n",
    "\n",
    "for i in missingData_list1:\n",
    "    print(i + \" ---- \"+ max_corr_row[i] + \" : \"+data_corr.loc[max_corr_row[i],i].astype(np.str)) #首先处理missingData_list1的数据"
   ]
  },
  {
   "cell_type": "code",
   "execution_count": 21,
   "id": "ade44175",
   "metadata": {},
   "outputs": [
    {
     "name": "stdout",
     "output_type": "stream",
     "text": [
      "h1n1_vaccine\n",
      "seasonal_vaccine\n",
      "h1n1_concern\n",
      "h1n1_knowledge\n",
      "behavioral_antiviral_meds\n",
      "behavioral_avoidance\n",
      "behavioral_face_mask\n",
      "behavioral_wash_hands\n",
      "behavioral_touch_face\n",
      "chronic_med_condition\n",
      "child_under_6_months\n",
      "health_worker\n",
      "health_insurance\n",
      "opinion_h1n1_vacc_effective\n",
      "opinion_h1n1_sick_from_vacc\n",
      "opinion_seas_vacc_effective\n",
      "opinion_seas_sick_from_vacc\n",
      "age_group\n",
      "education\n",
      "race\n",
      "sex\n",
      "income_poverty\n",
      "marital_status\n",
      "rent_or_own\n",
      "employment_status\n",
      "census_msa\n",
      "household_adults\n",
      "household_children\n"
     ]
    }
   ],
   "source": [
    "data[\"behavioral_large_gatherings\"].fillna(data[\"behavioral_outside_home\"],inplace = True) \n",
    "data[\"behavioral_large_gatherings\"].replace(np.nan,np.random.randint(0, 2),inplace = True) # 发现还有缺失值，用随机数来进行填充\n",
    "data[\"behavioral_outside_home\"].fillna(data[\"behavioral_large_gatherings\"],inplace = True)\n",
    "data[\"doctor_recc_h1n1\"].fillna(data[\"doctor_recc_seasonal\"],inplace = True)  # 此时发现doctor_recc_h1n1和doctor_recc_seasonal缺失值互相重叠，所以不能互相补充。但是其余相关值基本都小于0.2，不能进行填充\n",
    "data[\"doctor_recc_h1n1\"].replace(np.nan,np.random.randint(0, 2),inplace = True)# 用随机数来进行填充\n",
    "data[\"doctor_recc_seasonal\"].fillna(data[\"doctor_recc_h1n1\"],inplace = True)\n",
    "data[\"opinion_h1n1_risk\"].fillna(data[\"opinion_seas_risk\"],inplace = True)\n",
    "data[\"opinion_h1n1_risk\"].replace(np.nan,np.random.randint(1, 6),inplace = True)# 发现还有缺失值，用随机数来进行填充\n",
    "data[\"opinion_seas_risk\"].fillna(data[\"opinion_h1n1_risk\"],inplace = True)\n",
    "\n",
    "for i in missingData_list2:\n",
    "    print(i) #接下来补充in missingData_list2的数据"
   ]
  },
  {
   "cell_type": "code",
   "execution_count": 22,
   "id": "fa2d8554",
   "metadata": {},
   "outputs": [],
   "source": [
    "mean_normloss = data[\"behavioral_antiviral_meds\"].astype(\"float\").mean(axis=0)\n",
    "data[\"behavioral_antiviral_meds\"].replace(np.nan, mean_normloss, inplace=True)\n",
    "mean_normloss = data[\"behavioral_avoidance\"].astype(\"float\").mean(axis=0)\n",
    "data[\"behavioral_avoidance\"].replace(np.nan, mean_normloss, inplace=True)\n",
    "mean_normloss = data[\"behavioral_face_mask\"].astype(\"float\").mean(axis=0) \n",
    "data[\"behavioral_face_mask\"].replace(np.nan, mean_normloss, inplace=True)\n",
    "mean_normloss = data[\"behavioral_wash_hands\"].astype(\"float\").mean(axis=0) \n",
    "data[\"behavioral_wash_hands\"].replace(np.nan, mean_normloss, inplace=True)\n",
    "mean_normloss = data[\"behavioral_touch_face\"].astype(\"float\").mean(axis=0)\n",
    "data[\"behavioral_touch_face\"].replace(np.nan, mean_normloss, inplace=True)\n",
    "mean_normloss = data[\"chronic_med_condition\"].astype(\"float\").mean(axis=0) \n",
    "data[\"chronic_med_condition\"].replace(np.nan, mean_normloss, inplace=True)\n",
    "mean_normloss = data[\"child_under_6_months\"].astype(\"float\").mean(axis=0)\n",
    "data[\"child_under_6_months\"].replace(np.nan, mean_normloss, inplace=True)\n",
    "mean_normloss = data[\"opinion_h1n1_sick_from_vacc\"].astype(\"float\").mean(axis=0)\n",
    "data[\"opinion_h1n1_sick_from_vacc\"].replace(np.nan, mean_normloss, inplace=True)\n",
    "mean_normloss = data[\"household_adults\"].astype(\"float\").mean(axis=0) \n",
    "data[\"household_adults\"].replace(np.nan, mean_normloss, inplace=True)\n",
    "mean_normloss = data[\"household_children\"].astype(\"float\").mean(axis=0) \n",
    "data[\"household_children\"].replace(np.nan, mean_normloss, inplace=True)\n",
    "mean_normloss = data[\"opinion_seas_sick_from_vacc\"].astype(\"float\").mean(axis=0) \n",
    "data[\"opinion_seas_sick_from_vacc\"].replace(np.nan, mean_normloss, inplace=True)"
   ]
  },
  {
   "cell_type": "code",
   "execution_count": 23,
   "id": "bdb9e25c",
   "metadata": {},
   "outputs": [
    {
     "data": {
      "text/html": [
       "<div>\n",
       "<style scoped>\n",
       "    .dataframe tbody tr th:only-of-type {\n",
       "        vertical-align: middle;\n",
       "    }\n",
       "\n",
       "    .dataframe tbody tr th {\n",
       "        vertical-align: top;\n",
       "    }\n",
       "\n",
       "    .dataframe thead th {\n",
       "        text-align: right;\n",
       "    }\n",
       "</style>\n",
       "<table border=\"1\" class=\"dataframe\">\n",
       "  <thead>\n",
       "    <tr style=\"text-align: right;\">\n",
       "      <th></th>\n",
       "      <th>0</th>\n",
       "    </tr>\n",
       "  </thead>\n",
       "  <tbody>\n",
       "    <tr>\n",
       "      <th>h1n1_vaccine</th>\n",
       "      <td>0</td>\n",
       "    </tr>\n",
       "    <tr>\n",
       "      <th>seasonal_vaccine</th>\n",
       "      <td>0</td>\n",
       "    </tr>\n",
       "    <tr>\n",
       "      <th>h1n1_concern</th>\n",
       "      <td>0</td>\n",
       "    </tr>\n",
       "    <tr>\n",
       "      <th>h1n1_knowledge</th>\n",
       "      <td>0</td>\n",
       "    </tr>\n",
       "    <tr>\n",
       "      <th>behavioral_antiviral_meds</th>\n",
       "      <td>0</td>\n",
       "    </tr>\n",
       "    <tr>\n",
       "      <th>behavioral_avoidance</th>\n",
       "      <td>0</td>\n",
       "    </tr>\n",
       "    <tr>\n",
       "      <th>behavioral_face_mask</th>\n",
       "      <td>0</td>\n",
       "    </tr>\n",
       "    <tr>\n",
       "      <th>behavioral_wash_hands</th>\n",
       "      <td>0</td>\n",
       "    </tr>\n",
       "    <tr>\n",
       "      <th>behavioral_large_gatherings</th>\n",
       "      <td>0</td>\n",
       "    </tr>\n",
       "    <tr>\n",
       "      <th>behavioral_outside_home</th>\n",
       "      <td>0</td>\n",
       "    </tr>\n",
       "    <tr>\n",
       "      <th>behavioral_touch_face</th>\n",
       "      <td>0</td>\n",
       "    </tr>\n",
       "    <tr>\n",
       "      <th>doctor_recc_h1n1</th>\n",
       "      <td>0</td>\n",
       "    </tr>\n",
       "    <tr>\n",
       "      <th>doctor_recc_seasonal</th>\n",
       "      <td>0</td>\n",
       "    </tr>\n",
       "    <tr>\n",
       "      <th>chronic_med_condition</th>\n",
       "      <td>0</td>\n",
       "    </tr>\n",
       "    <tr>\n",
       "      <th>child_under_6_months</th>\n",
       "      <td>0</td>\n",
       "    </tr>\n",
       "    <tr>\n",
       "      <th>health_worker</th>\n",
       "      <td>0</td>\n",
       "    </tr>\n",
       "    <tr>\n",
       "      <th>health_insurance</th>\n",
       "      <td>0</td>\n",
       "    </tr>\n",
       "    <tr>\n",
       "      <th>opinion_h1n1_vacc_effective</th>\n",
       "      <td>0</td>\n",
       "    </tr>\n",
       "    <tr>\n",
       "      <th>opinion_h1n1_risk</th>\n",
       "      <td>0</td>\n",
       "    </tr>\n",
       "    <tr>\n",
       "      <th>opinion_h1n1_sick_from_vacc</th>\n",
       "      <td>0</td>\n",
       "    </tr>\n",
       "    <tr>\n",
       "      <th>opinion_seas_vacc_effective</th>\n",
       "      <td>0</td>\n",
       "    </tr>\n",
       "    <tr>\n",
       "      <th>opinion_seas_risk</th>\n",
       "      <td>0</td>\n",
       "    </tr>\n",
       "    <tr>\n",
       "      <th>opinion_seas_sick_from_vacc</th>\n",
       "      <td>0</td>\n",
       "    </tr>\n",
       "    <tr>\n",
       "      <th>age_group</th>\n",
       "      <td>0</td>\n",
       "    </tr>\n",
       "    <tr>\n",
       "      <th>education</th>\n",
       "      <td>0</td>\n",
       "    </tr>\n",
       "    <tr>\n",
       "      <th>race</th>\n",
       "      <td>0</td>\n",
       "    </tr>\n",
       "    <tr>\n",
       "      <th>sex</th>\n",
       "      <td>0</td>\n",
       "    </tr>\n",
       "    <tr>\n",
       "      <th>income_poverty</th>\n",
       "      <td>0</td>\n",
       "    </tr>\n",
       "    <tr>\n",
       "      <th>marital_status</th>\n",
       "      <td>0</td>\n",
       "    </tr>\n",
       "    <tr>\n",
       "      <th>rent_or_own</th>\n",
       "      <td>0</td>\n",
       "    </tr>\n",
       "    <tr>\n",
       "      <th>employment_status</th>\n",
       "      <td>0</td>\n",
       "    </tr>\n",
       "    <tr>\n",
       "      <th>census_msa</th>\n",
       "      <td>0</td>\n",
       "    </tr>\n",
       "    <tr>\n",
       "      <th>household_adults</th>\n",
       "      <td>0</td>\n",
       "    </tr>\n",
       "    <tr>\n",
       "      <th>household_children</th>\n",
       "      <td>0</td>\n",
       "    </tr>\n",
       "  </tbody>\n",
       "</table>\n",
       "</div>"
      ],
      "text/plain": [
       "                             0\n",
       "h1n1_vaccine                 0\n",
       "seasonal_vaccine             0\n",
       "h1n1_concern                 0\n",
       "h1n1_knowledge               0\n",
       "behavioral_antiviral_meds    0\n",
       "behavioral_avoidance         0\n",
       "behavioral_face_mask         0\n",
       "behavioral_wash_hands        0\n",
       "behavioral_large_gatherings  0\n",
       "behavioral_outside_home      0\n",
       "behavioral_touch_face        0\n",
       "doctor_recc_h1n1             0\n",
       "doctor_recc_seasonal         0\n",
       "chronic_med_condition        0\n",
       "child_under_6_months         0\n",
       "health_worker                0\n",
       "health_insurance             0\n",
       "opinion_h1n1_vacc_effective  0\n",
       "opinion_h1n1_risk            0\n",
       "opinion_h1n1_sick_from_vacc  0\n",
       "opinion_seas_vacc_effective  0\n",
       "opinion_seas_risk            0\n",
       "opinion_seas_sick_from_vacc  0\n",
       "age_group                    0\n",
       "education                    0\n",
       "race                         0\n",
       "sex                          0\n",
       "income_poverty               0\n",
       "marital_status               0\n",
       "rent_or_own                  0\n",
       "employment_status            0\n",
       "census_msa                   0\n",
       "household_adults             0\n",
       "household_children           0"
      ]
     },
     "execution_count": 23,
     "metadata": {},
     "output_type": "execute_result"
    }
   ],
   "source": [
    "missingData_new = data.isnull().sum().to_frame()\n",
    "missingData_new"
   ]
  },
  {
   "cell_type": "code",
   "execution_count": null,
   "id": "e66161ea",
   "metadata": {},
   "outputs": [],
   "source": []
  },
  {
   "cell_type": "markdown",
   "id": "4ef6124a",
   "metadata": {},
   "source": [
    "# feature selection"
   ]
  },
  {
   "cell_type": "code",
   "execution_count": 24,
   "id": "26950f2b",
   "metadata": {},
   "outputs": [
    {
     "data": {
      "text/plain": [
       "'\\nprint(data[\"age_group\"].corr(label[\"h1n1_vaccine\"]))#相关系数为0.041\\nprint(data[\"age_group\"].corr(label[\"seasonal_vaccine\"]))#相关系数为0.277，目前相关性大于0.1的特征先选择保留\\nprint(data[\"race\"].corr(label[\"h1n1_vaccine\"]))#相关系数为-0.015\\nprint(data[\"race\"].corr(label[\"seasonal_vaccine\"]))#相关系数为-0.091,可以看出基本与目标没有关系，先选择抛弃此特征\\ndata.drop(\"race\",axis = 1,inplace = True)\\n\\nprint(data[\"sex\"].corr(label[\"h1n1_vaccine\"]))#相关系数为-0.021\\nprint(data[\"sex\"].corr(label[\"seasonal_vaccine\"]))#相关系数为-0.077,可以看出基本与目标没有关系，先选择抛弃此特征\\ndata.drop(\"sex\",axis = 1,inplace = True)\\n\\nprint(data[\"census_msa\"].corr(label[\"h1n1_vaccine\"]))#相关系数为0.0017\\nprint(data[\"census_msa\"].corr(label[\"seasonal_vaccine\"]))#相关系数为-0.004,可以看出基本与目标没有关系，先选择抛弃此特征\\ndata.drop(\"census_msa\",axis = 1,inplace = True)\\n\\n# 处理behavioral_antiviral_meds列\\ndata[\"behavioral_antiviral_meds\"].corr(label[\"h1n1_vaccine\"]) #相关系数为0.0406\\ndata[\"behavioral_antiviral_meds\"].corr(label[\"seasonal_vaccine\"])#相关系数为0.00627，可以看出基本与目标没有关系，先选择抛弃此特征\\ndata.drop(\"behavioral_antiviral_meds\",axis = 1,inplace = True)\\n\\n# 处理behavioral_avoidance列\\ndata[\"behavioral_avoidance\"].corr(label[\"h1n1_vaccine\"])#相关系数为0.0476\\ndata[\"behavioral_avoidance\"].corr(label[\"seasonal_vaccine\"])#相关系数为0.076，可以看出基本与目标没有关系，先选择抛弃此特征\\ndata.drop(\"behavioral_avoidance\",axis = 1,inplace = True)\\n\\n# 处理behavioral_avoidance列\\ndata[\"behavioral_face_mask\"].corr(label[\"h1n1_vaccine\"])#相关系数为0.0705\\ndata[\"behavioral_face_mask\"].corr(label[\"seasonal_vaccine\"])#相关系数为0.05，可以看出基本与目标没有关系，先选择抛弃此特征\\ndata.drop(\"behavioral_face_mask\",axis = 1,inplace = True)\\n\\n# 处理behavioral_wash_hands列\\ndata[\"behavioral_wash_hands\"].corr(label[\"h1n1_vaccine\"])#相关系数为0.0747\\ndata[\"behavioral_wash_hands\"].corr(label[\"seasonal_vaccine\"])#相关系数为0.1124，可以看出基本与目标没有关系，先选择抛弃此特征\\ndata.drop(\"behavioral_wash_hands\",axis = 1,inplace = True)\\n\\n# 处理behavioral_touch_face列\\ndata[\"behavioral_touch_face\"].corr(label[\"h1n1_vaccine\"])#相关系数为0.0716\\ndata[\"behavioral_touch_face\"].corr(label[\"seasonal_vaccine\"])#相关系数为0.1202，可以看出基本与目标没有关系，先选择抛弃此特征\\ndata.drop(\"behavioral_touch_face\",axis = 1,inplace = True)\\n\\n# 处理chronic_med_condition列\\ndata[\"chronic_med_condition\"].corr(label[\"h1n1_vaccine\"]) #相关系数为0.0406\\ndata[\"chronic_med_condition\"].corr(label[\"seasonal_vaccine\"])#相关系数为0.00627，可以看出基本与目标没有关系，先选择抛弃此特征\\ndata.drop(\"chronic_med_condition\",axis = 1,inplace = True)\\n\\n# 处理child_under_6_months列\\ndata[\"child_under_6_months\"].corr(label[\"h1n1_vaccine\"]) #相关系数为0.067\\ndata[\"child_under_6_months\"].corr(label[\"seasonal_vaccine\"])#相关系数为0.0121，可以看出基本与目标没有关系，先选择抛弃此特征\\ndata.drop(\"child_under_6_months\",axis = 1,inplace = True)\\n\\n# 处理opinion_h1n1_sick_from_vacc列\\nprint(data[\"opinion_h1n1_sick_from_vacc\"].corr(label[\"h1n1_vaccine\"])) #相关系数为0.075\\nprint(data[\"opinion_h1n1_sick_from_vacc\"].corr(label[\"seasonal_vaccine\"]))#相关系数为0.0274，可以看出基本与目标没有关系，先选择抛弃此特征\\ndata.drop(\"opinion_h1n1_sick_from_vacc\",axis = 1,inplace = True)\\n\\n# 处理opinion_seas_sick_from_vacc列\\ndata[\"opinion_seas_sick_from_vacc\"].corr(label[\"h1n1_vaccine\"])#相关系数为0.0083\\ndata[\"opinion_seas_sick_from_vacc\"].corr(label[\"seasonal_vaccine\"])#相关系数为-0.062，可以看出基本与目标没有关系，先选择抛弃此特征\\ndata.drop(\"opinion_seas_sick_from_vacc\",axis = 1,inplace = True)\\n\\n# 处理household_adults列\\ndata[\"household_adults\"].corr(label[\"h1n1_vaccine\"])#相关系数为0.0075\\ndata[\"household_adults\"].corr(label[\"seasonal_vaccine\"])#相关系数为-0.065,可以看出基本与目标没有关系，先选择抛弃此特征\\ndata.drop(\"household_adults\",axis = 1,inplace = True)\\n\\n# 处理household_children列\\ndata[\"household_children\"].corr(label[\"h1n1_vaccine\"]) #相关系数为-0.003\\ndata[\"household_children\"].corr(label[\"seasonal_vaccine\"])#相关系数为-0.115,可以看出基本与目标没有关系，先选择抛弃此特征\\ndata.drop(\"household_children\",axis = 1,inplace = True)\\n'"
      ]
     },
     "execution_count": 24,
     "metadata": {},
     "output_type": "execute_result"
    }
   ],
   "source": [
    "\"\"\"\n",
    "print(data[\"age_group\"].corr(label[\"h1n1_vaccine\"]))#相关系数为0.041\n",
    "print(data[\"age_group\"].corr(label[\"seasonal_vaccine\"]))#相关系数为0.277，目前相关性大于0.1的特征先选择保留\n",
    "print(data[\"race\"].corr(label[\"h1n1_vaccine\"]))#相关系数为-0.015\n",
    "print(data[\"race\"].corr(label[\"seasonal_vaccine\"]))#相关系数为-0.091,可以看出基本与目标没有关系，先选择抛弃此特征\n",
    "data.drop(\"race\",axis = 1,inplace = True)\n",
    "\n",
    "print(data[\"sex\"].corr(label[\"h1n1_vaccine\"]))#相关系数为-0.021\n",
    "print(data[\"sex\"].corr(label[\"seasonal_vaccine\"]))#相关系数为-0.077,可以看出基本与目标没有关系，先选择抛弃此特征\n",
    "data.drop(\"sex\",axis = 1,inplace = True)\n",
    "\n",
    "print(data[\"census_msa\"].corr(label[\"h1n1_vaccine\"]))#相关系数为0.0017\n",
    "print(data[\"census_msa\"].corr(label[\"seasonal_vaccine\"]))#相关系数为-0.004,可以看出基本与目标没有关系，先选择抛弃此特征\n",
    "data.drop(\"census_msa\",axis = 1,inplace = True)\n",
    "\n",
    "# 处理behavioral_antiviral_meds列\n",
    "data[\"behavioral_antiviral_meds\"].corr(label[\"h1n1_vaccine\"]) #相关系数为0.0406\n",
    "data[\"behavioral_antiviral_meds\"].corr(label[\"seasonal_vaccine\"])#相关系数为0.00627，可以看出基本与目标没有关系，先选择抛弃此特征\n",
    "data.drop(\"behavioral_antiviral_meds\",axis = 1,inplace = True)\n",
    "\n",
    "# 处理behavioral_avoidance列\n",
    "data[\"behavioral_avoidance\"].corr(label[\"h1n1_vaccine\"])#相关系数为0.0476\n",
    "data[\"behavioral_avoidance\"].corr(label[\"seasonal_vaccine\"])#相关系数为0.076，可以看出基本与目标没有关系，先选择抛弃此特征\n",
    "data.drop(\"behavioral_avoidance\",axis = 1,inplace = True)\n",
    "\n",
    "# 处理behavioral_avoidance列\n",
    "data[\"behavioral_face_mask\"].corr(label[\"h1n1_vaccine\"])#相关系数为0.0705\n",
    "data[\"behavioral_face_mask\"].corr(label[\"seasonal_vaccine\"])#相关系数为0.05，可以看出基本与目标没有关系，先选择抛弃此特征\n",
    "data.drop(\"behavioral_face_mask\",axis = 1,inplace = True)\n",
    "\n",
    "# 处理behavioral_wash_hands列\n",
    "data[\"behavioral_wash_hands\"].corr(label[\"h1n1_vaccine\"])#相关系数为0.0747\n",
    "data[\"behavioral_wash_hands\"].corr(label[\"seasonal_vaccine\"])#相关系数为0.1124，可以看出基本与目标没有关系，先选择抛弃此特征\n",
    "data.drop(\"behavioral_wash_hands\",axis = 1,inplace = True)\n",
    "\n",
    "# 处理behavioral_touch_face列\n",
    "data[\"behavioral_touch_face\"].corr(label[\"h1n1_vaccine\"])#相关系数为0.0716\n",
    "data[\"behavioral_touch_face\"].corr(label[\"seasonal_vaccine\"])#相关系数为0.1202，可以看出基本与目标没有关系，先选择抛弃此特征\n",
    "data.drop(\"behavioral_touch_face\",axis = 1,inplace = True)\n",
    "\n",
    "# 处理chronic_med_condition列\n",
    "data[\"chronic_med_condition\"].corr(label[\"h1n1_vaccine\"]) #相关系数为0.0406\n",
    "data[\"chronic_med_condition\"].corr(label[\"seasonal_vaccine\"])#相关系数为0.00627，可以看出基本与目标没有关系，先选择抛弃此特征\n",
    "data.drop(\"chronic_med_condition\",axis = 1,inplace = True)\n",
    "\n",
    "# 处理child_under_6_months列\n",
    "data[\"child_under_6_months\"].corr(label[\"h1n1_vaccine\"]) #相关系数为0.067\n",
    "data[\"child_under_6_months\"].corr(label[\"seasonal_vaccine\"])#相关系数为0.0121，可以看出基本与目标没有关系，先选择抛弃此特征\n",
    "data.drop(\"child_under_6_months\",axis = 1,inplace = True)\n",
    "\n",
    "# 处理opinion_h1n1_sick_from_vacc列\n",
    "print(data[\"opinion_h1n1_sick_from_vacc\"].corr(label[\"h1n1_vaccine\"])) #相关系数为0.075\n",
    "print(data[\"opinion_h1n1_sick_from_vacc\"].corr(label[\"seasonal_vaccine\"]))#相关系数为0.0274，可以看出基本与目标没有关系，先选择抛弃此特征\n",
    "data.drop(\"opinion_h1n1_sick_from_vacc\",axis = 1,inplace = True)\n",
    "\n",
    "# 处理opinion_seas_sick_from_vacc列\n",
    "data[\"opinion_seas_sick_from_vacc\"].corr(label[\"h1n1_vaccine\"])#相关系数为0.0083\n",
    "data[\"opinion_seas_sick_from_vacc\"].corr(label[\"seasonal_vaccine\"])#相关系数为-0.062，可以看出基本与目标没有关系，先选择抛弃此特征\n",
    "data.drop(\"opinion_seas_sick_from_vacc\",axis = 1,inplace = True)\n",
    "\n",
    "# 处理household_adults列\n",
    "data[\"household_adults\"].corr(label[\"h1n1_vaccine\"])#相关系数为0.0075\n",
    "data[\"household_adults\"].corr(label[\"seasonal_vaccine\"])#相关系数为-0.065,可以看出基本与目标没有关系，先选择抛弃此特征\n",
    "data.drop(\"household_adults\",axis = 1,inplace = True)\n",
    "\n",
    "# 处理household_children列\n",
    "data[\"household_children\"].corr(label[\"h1n1_vaccine\"]) #相关系数为-0.003\n",
    "data[\"household_children\"].corr(label[\"seasonal_vaccine\"])#相关系数为-0.115,可以看出基本与目标没有关系，先选择抛弃此特征\n",
    "data.drop(\"household_children\",axis = 1,inplace = True)\n",
    "\"\"\""
   ]
  },
  {
   "cell_type": "markdown",
   "id": "10777fb9-28fc-4f94-96eb-b0d685300ec8",
   "metadata": {},
   "source": [
    "#### data for h1n1 and seasonal"
   ]
  },
  {
   "cell_type": "code",
   "execution_count": 25,
   "id": "921b9b8f-b762-49d0-9c81-5a0943bdf1e2",
   "metadata": {},
   "outputs": [
    {
     "data": {
      "text/plain": [
       "count    22936.000000\n",
       "mean         0.471486\n",
       "std          0.499197\n",
       "min          0.000000\n",
       "25%          0.000000\n",
       "50%          0.000000\n",
       "75%          1.000000\n",
       "max          1.000000\n",
       "Name: seasonal_vaccine, dtype: float64"
      ]
     },
     "execution_count": 25,
     "metadata": {},
     "output_type": "execute_result"
    }
   ],
   "source": [
    "X_h1n1 = data.iloc[:, 1:]\n",
    "X_seasonal = data.iloc[:, 1:]\n",
    "y_h1n1 = data.iloc[:, 0]\n",
    "y_seasonal = data.iloc[:, 1]\n",
    "y_seasonal.describe().T"
   ]
  },
  {
   "cell_type": "code",
   "execution_count": 26,
   "id": "ab120287-db38-435b-ba5f-5fa27331ab22",
   "metadata": {},
   "outputs": [
    {
     "data": {
      "text/plain": [
       "(22936, 33)"
      ]
     },
     "execution_count": 26,
     "metadata": {},
     "output_type": "execute_result"
    }
   ],
   "source": [
    "X_h1n1.shape"
   ]
  },
  {
   "cell_type": "code",
   "execution_count": 27,
   "id": "05dc108f",
   "metadata": {},
   "outputs": [
    {
     "data": {
      "text/plain": [
       "(22936,)"
      ]
     },
     "execution_count": 27,
     "metadata": {},
     "output_type": "execute_result"
    }
   ],
   "source": [
    "y_h1n1.shape"
   ]
  },
  {
   "cell_type": "code",
   "execution_count": 28,
   "id": "002035be-921d-45b3-ba2e-ba3d39c8d9ac",
   "metadata": {},
   "outputs": [
    {
     "data": {
      "text/plain": [
       "(22936,)"
      ]
     },
     "execution_count": 28,
     "metadata": {},
     "output_type": "execute_result"
    }
   ],
   "source": [
    "y_seasonal.shape"
   ]
  },
  {
   "cell_type": "markdown",
   "id": "f85d5f38-0672-49f1-962c-843daaccd055",
   "metadata": {},
   "source": [
    "#### selection for h1n1"
   ]
  },
  {
   "cell_type": "code",
   "execution_count": 29,
   "id": "d2610c17-37af-4037-9caf-907ada161b83",
   "metadata": {},
   "outputs": [],
   "source": [
    "from sklearn.ensemble import GradientBoostingClassifier"
   ]
  },
  {
   "cell_type": "code",
   "execution_count": 30,
   "id": "6b9015a9-4810-4f23-a19e-cb2ede5c139e",
   "metadata": {},
   "outputs": [
    {
     "data": {
      "image/png": "[encoded data removed]",
      "text/plain": [
       "<Figure size 1440x360 with 1 Axes>"
      ]
     },
     "metadata": {
      "needs_background": "light"
     },
     "output_type": "display_data"
    }
   ],
   "source": [
    "from sklearn.ensemble import RandomForestClassifier as RFC\n",
    "from sklearn.model_selection import cross_val_score\n",
    "from sklearn.feature_selection import RFE\n",
    " \n",
    "RFC_ = RFC(n_estimators=100,random_state=0).fit(X_h1n1,y_h1n1)\n",
    "score = []\n",
    "for i in range(10,33,3):\n",
    "    x_wrapper = RFE(RFC_,n_features_to_select=i,step=3).fit_transform(X_h1n1,y_h1n1)\n",
    "    once = cross_val_score(GradientBoostingClassifier(),x_wrapper,y_h1n1,cv=10,scoring='roc_auc').mean()\n",
    "    score.append(once)\n",
    "plt.figure(figsize=[20,5])\n",
    "plt.plot(range(10,33,3),score)\n",
    "plt.xticks(range(10,33,3))\n",
    "plt.show()"
   ]
  },
  {
   "cell_type": "code",
   "execution_count": 31,
   "id": "c84eab4f-421d-40cb-801a-273b24551335",
   "metadata": {},
   "outputs": [],
   "source": [
    "from sklearn.feature_selection import RFE\n",
    "from sklearn.ensemble import RandomForestClassifier\n",
    "randomFs = RandomForestClassifier(n_estimators=100,random_state=0)\n",
    "randomFs = randomFs.fit(X_h1n1,y_h1n1)\n",
    "selector = RFE(randomFs,n_features_to_select=33,step=3)\n",
    "X_h1n1_select = selector.fit_transform(X_h1n1,y_h1n1)"
   ]
  },
  {
   "cell_type": "markdown",
   "id": "899c3758-14dc-49ab-8858-a02e66a2bd70",
   "metadata": {},
   "source": [
    "#### selection for seasonal"
   ]
  },
  {
   "cell_type": "code",
   "execution_count": 32,
   "id": "2b96e178-cd00-4281-841e-771664702174",
   "metadata": {},
   "outputs": [
    {
     "data": {
      "image/png": "[encoded data removed]",
      "text/plain": [
       "<Figure size 1440x360 with 1 Axes>"
      ]
     },
     "metadata": {
      "needs_background": "light"
     },
     "output_type": "display_data"
    }
   ],
   "source": [
    "from sklearn.ensemble import RandomForestClassifier as RFC\n",
    "from sklearn.model_selection import cross_val_score\n",
    "from sklearn.feature_selection import RFE\n",
    " \n",
    "RFC_ = RFC(n_estimators=100,random_state=0).fit(X_seasonal,y_seasonal)\n",
    "score = []\n",
    "for i in range(10,33,3):\n",
    "    x_wrapper = RFE(RFC_,n_features_to_select=i,step=3).fit_transform(X_seasonal,y_seasonal)\n",
    "    once = cross_val_score(GradientBoostingClassifier(),x_wrapper,y_seasonal,cv=10,scoring='roc_auc').mean()\n",
    "    score.append(once)\n",
    "plt.figure(figsize=[20,5])\n",
    "plt.plot(range(10,33,3),score)\n",
    "plt.xticks(range(10,33,3))\n",
    "plt.show()"
   ]
  },
  {
   "cell_type": "code",
   "execution_count": 33,
   "id": "4e5f5e74-b373-4a94-80f2-604e98a9f2a8",
   "metadata": {},
   "outputs": [],
   "source": [
    "from sklearn.feature_selection import RFE\n",
    "from sklearn.ensemble import RandomForestClassifier\n",
    "randomFs = RandomForestClassifier(n_estimators=100,random_state=0)\n",
    "randomFs = randomFs.fit(X_seasonal,y_seasonal)\n",
    "selector = RFE(randomFs,n_features_to_select=33,step=3)\n",
    "X_seasonal_select = selector.fit_transform(X_seasonal,y_seasonal)"
   ]
  },
  {
   "cell_type": "markdown",
   "id": "ebc5582a",
   "metadata": {
    "tags": []
   },
   "source": [
    "# Data modelling"
   ]
  },
  {
   "cell_type": "markdown",
   "id": "d755cdc1-67d6-429a-ac5b-4bf781619ec2",
   "metadata": {},
   "source": [
    "### standard"
   ]
  },
  {
   "cell_type": "code",
   "execution_count": 34,
   "id": "2e131529",
   "metadata": {},
   "outputs": [],
   "source": [
    "from sklearn.preprocessing import StandardScaler\n",
    "scaler = StandardScaler()\n",
    "X_seasonal_std = scaler.fit_transform(X_seasonal_select)\n",
    "X_h1n1_std = scaler.fit_transform(X_h1n1_select)"
   ]
  },
  {
   "cell_type": "markdown",
   "id": "fbaddfae-dfab-4060-ab9d-ed76e6aac15c",
   "metadata": {},
   "source": [
    "### split data set"
   ]
  },
  {
   "cell_type": "code",
   "execution_count": 35,
   "id": "585cdb49",
   "metadata": {},
   "outputs": [],
   "source": [
    "from sklearn.model_selection import train_test_split\n",
    "\n",
    "Xs_train, Xs_test, ys_train, ys_test = train_test_split(X_seasonal_std, y_seasonal, test_size = 0.3, random_state = 0)\n",
    "Xh_train, Xh_test, yh_train, yh_test = train_test_split(X_h1n1_std, y_h1n1, test_size = 0.3, random_state = 0)\n"
   ]
  },
  {
   "cell_type": "markdown",
   "id": "35710557-9986-40b1-a44a-ff8c27ebe30f",
   "metadata": {},
   "source": [
    "### model comparing. Use h1n1 to compare."
   ]
  },
  {
   "cell_type": "code",
   "execution_count": 36,
   "id": "1b636f0f-269d-454f-a30f-807928ef4073",
   "metadata": {},
   "outputs": [],
   "source": [
    "from sklearn.model_selection import cross_val_score\n",
    "from sklearn import metrics\n",
    "from sklearn.neural_network import MLPClassifier\n",
    "from sklearn.model_selection import cross_val_score\n",
    "from sklearn.model_selection import GridSearchCV \n",
    "from sklearn import tree\n",
    "from sklearn.linear_model import LogisticRegression\n",
    "from sklearn import svm"
   ]
  },
  {
   "cell_type": "code",
   "execution_count": 54,
   "id": "c62cf15a-e1c3-4041-b59f-5ad8fd76655b",
   "metadata": {},
   "outputs": [
    {
     "name": "stderr",
     "output_type": "stream",
     "text": [
      "C:\\ProgramData\\Anaconda3\\lib\\site-packages\\sklearn\\neural_network\\_multilayer_perceptron.py:692: ConvergenceWarning: Stochastic Optimizer: Maximum iterations (50) reached and the optimization hasn't converged yet.\n",
      "  warnings.warn(\n",
      "C:\\ProgramData\\Anaconda3\\lib\\site-packages\\sklearn\\neural_network\\_multilayer_perceptron.py:692: ConvergenceWarning: Stochastic Optimizer: Maximum iterations (50) reached and the optimization hasn't converged yet.\n",
      "  warnings.warn(\n",
      "C:\\ProgramData\\Anaconda3\\lib\\site-packages\\sklearn\\neural_network\\_multilayer_perceptron.py:692: ConvergenceWarning: Stochastic Optimizer: Maximum iterations (50) reached and the optimization hasn't converged yet.\n",
      "  warnings.warn(\n",
      "C:\\ProgramData\\Anaconda3\\lib\\site-packages\\sklearn\\neural_network\\_multilayer_perceptron.py:692: ConvergenceWarning: Stochastic Optimizer: Maximum iterations (50) reached and the optimization hasn't converged yet.\n",
      "  warnings.warn(\n"
     ]
    },
    {
     "name": "stdout",
     "output_type": "stream",
     "text": [
      "0.8519318019969943\n"
     ]
    },
    {
     "name": "stderr",
     "output_type": "stream",
     "text": [
      "C:\\ProgramData\\Anaconda3\\lib\\site-packages\\sklearn\\neural_network\\_multilayer_perceptron.py:692: ConvergenceWarning: Stochastic Optimizer: Maximum iterations (50) reached and the optimization hasn't converged yet.\n",
      "  warnings.warn(\n"
     ]
    }
   ],
   "source": [
    "score = cross_val_score(MLPClassifier(hidden_layer_sizes=(100, 100), random_state=1,max_iter=50), X_h1n1_std, y_h1n1, scoring='roc_auc', cv=5)\n",
    "print(np.average(score))"
   ]
  },
  {
   "cell_type": "code",
   "execution_count": 55,
   "id": "6950927e-64c8-4a32-983d-cb73345dfeef",
   "metadata": {},
   "outputs": [
    {
     "name": "stdout",
     "output_type": "stream",
     "text": [
      "0.7184866279453594\n"
     ]
    }
   ],
   "source": [
    "score_dtr = cross_val_score(tree.DecisionTreeClassifier(), X_h1n1_std, y_h1n1, scoring='roc_auc', cv=5)\n",
    "print(np.average(score_dtr))"
   ]
  },
  {
   "cell_type": "code",
   "execution_count": 56,
   "id": "40f20723-ccd5-426b-9b04-f44a05bdbdde",
   "metadata": {},
   "outputs": [
    {
     "name": "stdout",
     "output_type": "stream",
     "text": [
      "0.8762226841121192\n"
     ]
    }
   ],
   "source": [
    "score_svm = cross_val_score(svm.SVC(), X_h1n1_std, y_h1n1, scoring='roc_auc', cv=5)\n",
    "print(np.average(score_svm))"
   ]
  },
  {
   "cell_type": "code",
   "execution_count": 57,
   "id": "2855c195-e248-42ce-a64d-ae3c7199de73",
   "metadata": {},
   "outputs": [
    {
     "name": "stdout",
     "output_type": "stream",
     "text": [
      "0.8754341009454553\n"
     ]
    }
   ],
   "source": [
    "lr = LogisticRegression().fit(X_h1n1_std, y_h1n1)\n",
    "scores_lr = cross_val_score(lr, X_h1n1_std, y_h1n1, scoring='roc_auc', cv=5)\n",
    "print(np.average(scores_lr))"
   ]
  },
  {
   "cell_type": "code",
   "execution_count": 53,
   "id": "0975b0ba-c183-416b-bf1d-8e767158c3bd",
   "metadata": {},
   "outputs": [
    {
     "name": "stdout",
     "output_type": "stream",
     "text": [
      "Accuracy : 0.8394\n",
      "AUC Score (Test): 0.882596\n"
     ]
    }
   ],
   "source": [
    "gbdt3 = GradientBoostingClassifier(learning_rate=0.06, n_estimators=25,max_depth=5, min_samples_leaf =20, \n",
    "               min_samples_split =2, max_features=5, random_state=10)\n",
    "gbdt3.fit(Xh_train,yh_train)\n",
    "yh_pred = gbdt3.predict(Xh_test)\n",
    "yh_predprob = gbdt3.predict_proba(Xh_test)[:,1]\n",
    "print (\"Accuracy : %.4g\" % metrics.accuracy_score(yh_test, yh_pred))\n",
    "print (\"AUC Score (Test): %f\" % metrics.roc_auc_score(yh_test, yh_predprob))"
   ]
  },
  {
   "cell_type": "markdown",
   "id": "defdd3a1-e3e4-4536-a699-c1f8de2b38a5",
   "metadata": {},
   "source": [
    "### get best parameters of H1N1"
   ]
  },
  {
   "cell_type": "code",
   "execution_count": 65,
   "id": "9502092e-0a31-4d0b-94e1-68663a5caf84",
   "metadata": {},
   "outputs": [
    {
     "data": {
      "text/plain": [
       "({'min_samples_leaf': 35, 'min_samples_split': 2},\n",
       " 0.8548568801295653,\n",
       " array([0.85485688, 0.85485688, 0.85485688, 0.85485688, 0.85485688,\n",
       "        0.85485688, 0.85485688, 0.85485688, 0.85485688, 0.85485688,\n",
       "        0.85485688, 0.85485688, 0.85485688, 0.85485688, 0.85485688,\n",
       "        0.85485688, 0.85485688, 0.85485688, 0.85485688, 0.85485688,\n",
       "        0.85485688, 0.85485688, 0.85485688, 0.85485688, 0.85485688,\n",
       "        0.85485688, 0.85485688, 0.85485688, 0.85485688, 0.85485688,\n",
       "        0.85485688, 0.85485688, 0.85485688, 0.85485688, 0.85485688,\n",
       "        0.85485688, 0.85485688, 0.85485688, 0.85485688, 0.85485688,\n",
       "        0.85485688, 0.85485688, 0.85485688, 0.85485688, 0.85485688,\n",
       "        0.85485688, 0.85485688, 0.85485688, 0.85485688, 0.85485688,\n",
       "        0.85485688, 0.85485688, 0.85485688, 0.85485688, 0.85485688,\n",
       "        0.85485688, 0.85485688, 0.85485688, 0.85485688, 0.85485688,\n",
       "        0.85485688, 0.85485688, 0.85485688, 0.85485688, 0.85485688,\n",
       "        0.85485688, 0.85485688, 0.85485688, 0.85485688, 0.85485688,\n",
       "        0.85485688, 0.85485688, 0.85485688, 0.85485688, 0.85485688,\n",
       "        0.85485688, 0.85485688, 0.85485688, 0.85485688, 0.85485688]))"
      ]
     },
     "execution_count": 65,
     "metadata": {},
     "output_type": "execute_result"
    }
   ],
   "source": [
    "param_test3 = {'min_samples_split':range(2,10,1), 'min_samples_leaf':range(35,45,1)}\n",
    "gsearch3 = GridSearchCV(estimator = GradientBoostingClassifier(learning_rate=0.1, n_estimators=81,max_depth=2,\n",
    "                                     max_features='sqrt', random_state=10), \n",
    "                       param_grid = param_test3, scoring='accuracy', cv=5)\n",
    "gsearch3.fit(X_h1n1_std,y_h1n1)\n",
    "gsearch3.best_params_, gsearch3.best_score_, gsearch3.cv_results_['mean_test_score']"
   ]
  },
  {
   "cell_type": "markdown",
   "id": "be01b354-f21a-49f5-8c1a-1843b730edb4",
   "metadata": {},
   "source": [
    "### get best parameters of seasonal"
   ]
  },
  {
   "cell_type": "code",
   "execution_count": 66,
   "id": "adaefb55-0abe-43a3-8a34-3e9971ce5628",
   "metadata": {},
   "outputs": [
    {
     "data": {
      "text/plain": [
       "({'min_samples_leaf': 35, 'min_samples_split': 2},\n",
       " 1.0,\n",
       " array([1., 1., 1., 1., 1., 1., 1., 1., 1., 1., 1., 1., 1., 1., 1., 1., 1.,\n",
       "        1., 1., 1., 1., 1., 1., 1., 1., 1., 1., 1., 1., 1., 1., 1., 1., 1.,\n",
       "        1., 1., 1., 1., 1., 1., 1., 1., 1., 1., 1., 1., 1., 1., 1., 1., 1.,\n",
       "        1., 1., 1., 1., 1., 1., 1., 1., 1., 1., 1., 1., 1., 1., 1., 1., 1.,\n",
       "        1., 1., 1., 1., 1., 1., 1., 1., 1., 1., 1., 1.]))"
      ]
     },
     "execution_count": 66,
     "metadata": {},
     "output_type": "execute_result"
    }
   ],
   "source": [
    "param_test3 = {'min_samples_split':range(2,10,1), 'min_samples_leaf':range(35,45,1)}\n",
    "gsearch3 = GridSearchCV(estimator = GradientBoostingClassifier(learning_rate=0.1, n_estimators=81,max_depth=2,\n",
    "                                     max_features='sqrt', random_state=10), \n",
    "                       param_grid = param_test3, scoring='accuracy', cv=5)\n",
    "gsearch3.fit(X_seasonal_std,y_seasonal)\n",
    "gsearch3.best_params_, gsearch3.best_score_, gsearch3.cv_results_['mean_test_score']"
   ]
  },
  {
   "cell_type": "markdown",
   "id": "84198b8a-8d74-4472-bd51-d02f52a46ea5",
   "metadata": {},
   "source": [
    "### evaluation"
   ]
  },
  {
   "cell_type": "markdown",
   "id": "6a7b6014-cf6e-4eed-9cac-f84f14da8135",
   "metadata": {},
   "source": [
    "## evaluation for seasonal"
   ]
  },
  {
   "cell_type": "code",
   "execution_count": 45,
   "id": "4f0bd229-fe9f-49ea-9d2a-cd7d1b523cdf",
   "metadata": {},
   "outputs": [
    {
     "name": "stdout",
     "output_type": "stream",
     "text": [
      "              precision    recall  f1-score   support\n",
      "\n",
      "           0       1.00      1.00      1.00      3632\n",
      "           1       1.00      1.00      1.00      3249\n",
      "\n",
      "    accuracy                           1.00      6881\n",
      "   macro avg       1.00      1.00      1.00      6881\n",
      "weighted avg       1.00      1.00      1.00      6881\n",
      "\n"
     ]
    },
    {
     "data": {
      "image/png": "[encoded data removed]",
      "text/plain": [
       "<Figure size 216x216 with 1 Axes>"
      ]
     },
     "metadata": {
      "needs_background": "light"
     },
     "output_type": "display_data"
    }
   ],
   "source": [
    "from sklearn.metrics import confusion_matrix, classification_report\n",
    "cm = confusion_matrix(ys_test, ys_pred)\n",
    "# Plot confusion matrix, \n",
    "fig, ax = plt.subplots(figsize=(3, 3))\n",
    "ax.matshow(cm, cmap=plt.cm.Blues, alpha=0.3)\n",
    "for i in range(cm.shape[0]):\n",
    "    for j in range(cm.shape[1]):\n",
    "        ax.text(x=j, y=i,\n",
    "            s=cm[i, j], \n",
    "            va='center', ha='center')\n",
    "        \n",
    "classes=[\"0\",\"1\"]\n",
    "tick_marks = np.arange(len(classes))\n",
    "plt.xticks(tick_marks, classes, rotation=45)\n",
    "plt.yticks(tick_marks, classes)\n",
    "plt.xlabel('Predicted Values', )\n",
    "plt.ylabel('Actual Values');\n",
    "print(classification_report(ys_test, ys_pred ))"
   ]
  },
  {
   "cell_type": "code",
   "execution_count": 46,
   "id": "afa87025-333e-4ccc-acc8-4c6a5592c619",
   "metadata": {},
   "outputs": [
    {
     "data": {
      "image/png": "[encoded data removed]",
      "text/plain": [
       "<Figure size 432x288 with 1 Axes>"
      ]
     },
     "metadata": {
      "needs_background": "light"
     },
     "output_type": "display_data"
    }
   ],
   "source": [
    "from sklearn.metrics import RocCurveDisplay\n",
    "svc_disp = RocCurveDisplay.from_estimator(gbdt3, Xs_test, ys_test)\n",
    "plt.plot([0, 1], [0, 1], '--', color=(0.6, 0.6, 0.6), label='Random')\n",
    "plt.show()"
   ]
  },
  {
   "cell_type": "code",
   "execution_count": 47,
   "id": "a2f61bc9-b4b1-4b0a-9113-1492fe48526f",
   "metadata": {},
   "outputs": [
    {
     "data": {
      "image/png": "[encoded data removed]",
      "text/plain": [
       "<Figure size 792x360 with 1 Axes>"
      ]
     },
     "metadata": {
      "needs_background": "light"
     },
     "output_type": "display_data"
    }
   ],
   "source": [
    "from sklearn.model_selection import cross_val_score\n",
    "scores = cross_val_score(gbdt3, X_seasonal, y_seasonal, cv=10,scoring='balanced_accuracy')\n",
    "plt.figure(figsize=(11,5))\n",
    "labels = [1, 2, 3, 4, 5,6,7,8,9,10]\n",
    "plt.plot(labels, scores, label=u'balanced_accuracy')\n",
    "plt.xticks(labels)\n",
    "for x, y in zip((labels), scores):\n",
    "    plt.text(x, y,\"%.2f\" % y, ha=\"center\", va=\"bottom\",fontsize=10)\n",
    "plt.title(\"Cross validation\")\n",
    "plt.legend()\n",
    "plt.show()"
   ]
  },
  {
   "cell_type": "markdown",
   "id": "702e79c0-f8fa-4be8-82c7-076a261858f4",
   "metadata": {},
   "source": [
    "## evaluation for h1n1"
   ]
  },
  {
   "cell_type": "code",
   "execution_count": 48,
   "id": "1724a9d4-8862-49fe-9578-0c851b0e27f6",
   "metadata": {},
   "outputs": [
    {
     "name": "stdout",
     "output_type": "stream",
     "text": [
      "              precision    recall  f1-score   support\n",
      "\n",
      "           0       0.87      0.95      0.91      5321\n",
      "           1       0.77      0.52      0.62      1560\n",
      "\n",
      "    accuracy                           0.86      6881\n",
      "   macro avg       0.82      0.74      0.76      6881\n",
      "weighted avg       0.85      0.86      0.84      6881\n",
      "\n"
     ]
    },
    {
     "data": {
      "image/png": "[encoded data removed]",
      "text/plain": [
       "<Figure size 216x216 with 1 Axes>"
      ]
     },
     "metadata": {
      "needs_background": "light"
     },
     "output_type": "display_data"
    }
   ],
   "source": [
    "from sklearn.metrics import confusion_matrix, classification_report\n",
    "cm = confusion_matrix(yh_test, yh_pred)\n",
    "# Plot confusion matrix, \n",
    "fig, ax = plt.subplots(figsize=(3, 3))\n",
    "ax.matshow(cm, cmap=plt.cm.Blues, alpha=0.3)\n",
    "for i in range(cm.shape[0]):\n",
    "    for j in range(cm.shape[1]):\n",
    "        ax.text(x=j, y=i,\n",
    "            s=cm[i, j], \n",
    "            va='center', ha='center')\n",
    "        \n",
    "classes=[\"0\",\"1\"]\n",
    "tick_marks = np.arange(len(classes))\n",
    "plt.xticks(tick_marks, classes, rotation=45)\n",
    "plt.yticks(tick_marks, classes)\n",
    "plt.xlabel('Predicted Values', )\n",
    "plt.ylabel('Actual Values');\n",
    "print(classification_report(yh_test, yh_pred ))"
   ]
  },
  {
   "cell_type": "code",
   "execution_count": 49,
   "id": "fdab4cac-7981-4621-b7b4-3d7212a27302",
   "metadata": {},
   "outputs": [
    {
     "data": {
      "image/png": "[encoded data removed]",
      "text/plain": [
       "<Figure size 432x288 with 1 Axes>"
      ]
     },
     "metadata": {
      "needs_background": "light"
     },
     "output_type": "display_data"
    }
   ],
   "source": [
    "from sklearn.metrics import RocCurveDisplay\n",
    "svc_disp = RocCurveDisplay.from_estimator(gbdt3, Xh_test, yh_test)\n",
    "plt.plot([0, 1], [0, 1], '--', color=(0.6, 0.6, 0.6), label='Random')\n",
    "plt.show()"
   ]
  },
  {
   "cell_type": "code",
   "execution_count": 50,
   "id": "7d9f539f-fb41-46c1-9958-2bbf80afc3f4",
   "metadata": {},
   "outputs": [
    {
     "data": {
      "image/png": "[encoded data removed]",
      "text/plain": [
       "<Figure size 792x360 with 1 Axes>"
      ]
     },
     "metadata": {
      "needs_background": "light"
     },
     "output_type": "display_data"
    }
   ],
   "source": [
    "from sklearn.model_selection import cross_val_score\n",
    "scores = cross_val_score(gbdt3, X_h1n1, y_h1n1, cv=10,scoring='balanced_accuracy')\n",
    "plt.figure(figsize=(11,5))\n",
    "labels = [1, 2, 3, 4, 5,6,7,8,9,10]\n",
    "plt.plot(labels, scores, label=u'balanced_accuracy')\n",
    "plt.xticks(labels)\n",
    "for x, y in zip((labels), scores):\n",
    "    plt.text(x, y,\"%.2f\" % y, ha=\"center\", va=\"bottom\",fontsize=10)\n",
    "plt.title(\"Cross validation\")\n",
    "plt.legend()\n",
    "plt.show()"
   ]
  },
  {
   "cell_type": "code",
   "execution_count": null,
   "id": "39099c2e-e13a-4c57-92a9-db028486c1fc",
   "metadata": {},
   "outputs": [],
   "source": []
  }
 ],
 "metadata": {
  "kernelspec": {
   "display_name": "mle_tf",
   "language": "python",
   "name": "mle_tf"
  },
  "language_info": {
   "codemirror_mode": {
    "name": "ipython",
    "version": 3
   },
   "file_extension": ".py",
   "mimetype": "text/x-python",
   "name": "python",
   "nbconvert_exporter": "python",
   "pygments_lexer": "ipython3",
   "version": "3.9.12"
  }
 },
 "nbformat": 4,
 "nbformat_minor": 5
}
